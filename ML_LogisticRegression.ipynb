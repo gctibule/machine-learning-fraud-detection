{
 "cells": [
  {
   "cell_type": "markdown",
   "metadata": {},
   "source": [
    "# Fraud Detection using Logistic Regression (L1-regularized)\n",
    "\n",
    "In this notebook, we will use Logistic Regression for Fraud Detection using the dataset from https://www.kaggle.com/datasets/sgpjesus/bank-account-fraud-dataset-neurips-2022/data.\n",
    "\n",
    "The content of this notebook is as follows: \n",
    "\n",
    "1. Set-up and Exploratory Data Analysis \\\n",
    "    1.1. Import Libraries \\\n",
    "    1.2. Exploratory Data Analysis (EDA) \n",
    "\n",
    "2. Preprocessing and Data Cleaning \\\n",
    "    2.1. One Hot Encoding and Standardizing \\\n",
    "    2.2. Oversampling using SMOTE \\\n",
    "    2.3. Separation of Training and Test Sets \n",
    "\n",
    "3. Training of Models and Hyperparameter Tuning \\\n",
    "    3.1. Hyperparameter Tuning using GridSearchCV \\\n",
    "    3.2. Feature Selection and Training using L1-regularized \\\n",
    "    3.3. Model Prediction\n",
    "\n",
    "4. Evaluation of Results and Error Analysis \\\n",
    "    4.1. Confusion Matrix \\\n",
    "    5.1 . Compute Loss using Cross-Entropy Loss with Probabilities"
   ]
  },
  {
   "cell_type": "markdown",
   "metadata": {},
   "source": [
    "# ***1. Set-up and Exploratory Data Analysis***"
   ]
  },
  {
   "cell_type": "markdown",
   "metadata": {},
   "source": [
    "**1.1. Import Libraries**"
   ]
  },
  {
   "cell_type": "code",
   "execution_count": 1,
   "metadata": {},
   "outputs": [],
   "source": [
    "import pandas as pd     \n",
    "from imblearn.over_sampling import SMOTE \n",
    "import plotly.graph_objects as go \n",
    "from sklearn.model_selection import train_test_split, GridSearchCV\n",
    "from sklearn.linear_model import LogisticRegression \n",
    "from sklearn.metrics import confusion_matrix,log_loss, accuracy_score, precision_score, recall_score, f1_score\n",
    "from sklearn.preprocessing import StandardScaler   \n",
    "from sklearn.feature_selection import SelectFromModel \n",
    "import matplotlib.pyplot as plt\n",
    "import seaborn as sns\n"
   ]
  },
  {
   "cell_type": "markdown",
   "metadata": {},
   "source": [
    "**1.2. Import data** \\\n",
    "Bank Account Fraud (BAF) Dataset from Kaggle \\\n",
    "-synthetic tabular datasets representing reslistic bank account fraud scenarios. "
   ]
  },
  {
   "cell_type": "code",
   "execution_count": 2,
   "metadata": {},
   "outputs": [
    {
     "name": "stdout",
     "output_type": "stream",
     "text": [
      "Shape of the raw data (1000000, 32)\n"
     ]
    },
    {
     "data": {
      "text/html": [
       "<div>\n",
       "<style scoped>\n",
       "    .dataframe tbody tr th:only-of-type {\n",
       "        vertical-align: middle;\n",
       "    }\n",
       "\n",
       "    .dataframe tbody tr th {\n",
       "        vertical-align: top;\n",
       "    }\n",
       "\n",
       "    .dataframe thead th {\n",
       "        text-align: right;\n",
       "    }\n",
       "</style>\n",
       "<table border=\"1\" class=\"dataframe\">\n",
       "  <thead>\n",
       "    <tr style=\"text-align: right;\">\n",
       "      <th></th>\n",
       "      <th>fraud_bool</th>\n",
       "      <th>income</th>\n",
       "      <th>name_email_similarity</th>\n",
       "      <th>prev_address_months_count</th>\n",
       "      <th>current_address_months_count</th>\n",
       "      <th>customer_age</th>\n",
       "      <th>days_since_request</th>\n",
       "      <th>intended_balcon_amount</th>\n",
       "      <th>payment_type</th>\n",
       "      <th>zip_count_4w</th>\n",
       "      <th>...</th>\n",
       "      <th>has_other_cards</th>\n",
       "      <th>proposed_credit_limit</th>\n",
       "      <th>foreign_request</th>\n",
       "      <th>source</th>\n",
       "      <th>session_length_in_minutes</th>\n",
       "      <th>device_os</th>\n",
       "      <th>keep_alive_session</th>\n",
       "      <th>device_distinct_emails_8w</th>\n",
       "      <th>device_fraud_count</th>\n",
       "      <th>month</th>\n",
       "    </tr>\n",
       "  </thead>\n",
       "  <tbody>\n",
       "    <tr>\n",
       "      <th>0</th>\n",
       "      <td>0</td>\n",
       "      <td>0.3</td>\n",
       "      <td>0.986506</td>\n",
       "      <td>-1</td>\n",
       "      <td>25</td>\n",
       "      <td>40</td>\n",
       "      <td>0.006735</td>\n",
       "      <td>102.453711</td>\n",
       "      <td>AA</td>\n",
       "      <td>1059</td>\n",
       "      <td>...</td>\n",
       "      <td>0</td>\n",
       "      <td>1500.0</td>\n",
       "      <td>0</td>\n",
       "      <td>INTERNET</td>\n",
       "      <td>16.224843</td>\n",
       "      <td>linux</td>\n",
       "      <td>1</td>\n",
       "      <td>1</td>\n",
       "      <td>0</td>\n",
       "      <td>0</td>\n",
       "    </tr>\n",
       "    <tr>\n",
       "      <th>1</th>\n",
       "      <td>0</td>\n",
       "      <td>0.8</td>\n",
       "      <td>0.617426</td>\n",
       "      <td>-1</td>\n",
       "      <td>89</td>\n",
       "      <td>20</td>\n",
       "      <td>0.010095</td>\n",
       "      <td>-0.849551</td>\n",
       "      <td>AD</td>\n",
       "      <td>1658</td>\n",
       "      <td>...</td>\n",
       "      <td>0</td>\n",
       "      <td>1500.0</td>\n",
       "      <td>0</td>\n",
       "      <td>INTERNET</td>\n",
       "      <td>3.363854</td>\n",
       "      <td>other</td>\n",
       "      <td>1</td>\n",
       "      <td>1</td>\n",
       "      <td>0</td>\n",
       "      <td>0</td>\n",
       "    </tr>\n",
       "    <tr>\n",
       "      <th>2</th>\n",
       "      <td>0</td>\n",
       "      <td>0.8</td>\n",
       "      <td>0.996707</td>\n",
       "      <td>9</td>\n",
       "      <td>14</td>\n",
       "      <td>40</td>\n",
       "      <td>0.012316</td>\n",
       "      <td>-1.490386</td>\n",
       "      <td>AB</td>\n",
       "      <td>1095</td>\n",
       "      <td>...</td>\n",
       "      <td>0</td>\n",
       "      <td>200.0</td>\n",
       "      <td>0</td>\n",
       "      <td>INTERNET</td>\n",
       "      <td>22.730559</td>\n",
       "      <td>windows</td>\n",
       "      <td>0</td>\n",
       "      <td>1</td>\n",
       "      <td>0</td>\n",
       "      <td>0</td>\n",
       "    </tr>\n",
       "    <tr>\n",
       "      <th>3</th>\n",
       "      <td>0</td>\n",
       "      <td>0.6</td>\n",
       "      <td>0.475100</td>\n",
       "      <td>11</td>\n",
       "      <td>14</td>\n",
       "      <td>30</td>\n",
       "      <td>0.006991</td>\n",
       "      <td>-1.863101</td>\n",
       "      <td>AB</td>\n",
       "      <td>3483</td>\n",
       "      <td>...</td>\n",
       "      <td>0</td>\n",
       "      <td>200.0</td>\n",
       "      <td>0</td>\n",
       "      <td>INTERNET</td>\n",
       "      <td>15.215816</td>\n",
       "      <td>linux</td>\n",
       "      <td>1</td>\n",
       "      <td>1</td>\n",
       "      <td>0</td>\n",
       "      <td>0</td>\n",
       "    </tr>\n",
       "    <tr>\n",
       "      <th>4</th>\n",
       "      <td>0</td>\n",
       "      <td>0.9</td>\n",
       "      <td>0.842307</td>\n",
       "      <td>-1</td>\n",
       "      <td>29</td>\n",
       "      <td>40</td>\n",
       "      <td>5.742626</td>\n",
       "      <td>47.152498</td>\n",
       "      <td>AA</td>\n",
       "      <td>2339</td>\n",
       "      <td>...</td>\n",
       "      <td>0</td>\n",
       "      <td>200.0</td>\n",
       "      <td>0</td>\n",
       "      <td>INTERNET</td>\n",
       "      <td>3.743048</td>\n",
       "      <td>other</td>\n",
       "      <td>0</td>\n",
       "      <td>1</td>\n",
       "      <td>0</td>\n",
       "      <td>0</td>\n",
       "    </tr>\n",
       "  </tbody>\n",
       "</table>\n",
       "<p>5 rows × 32 columns</p>\n",
       "</div>"
      ],
      "text/plain": [
       "   fraud_bool  income  name_email_similarity  prev_address_months_count  \\\n",
       "0           0     0.3               0.986506                         -1   \n",
       "1           0     0.8               0.617426                         -1   \n",
       "2           0     0.8               0.996707                          9   \n",
       "3           0     0.6               0.475100                         11   \n",
       "4           0     0.9               0.842307                         -1   \n",
       "\n",
       "   current_address_months_count  customer_age  days_since_request  \\\n",
       "0                            25            40            0.006735   \n",
       "1                            89            20            0.010095   \n",
       "2                            14            40            0.012316   \n",
       "3                            14            30            0.006991   \n",
       "4                            29            40            5.742626   \n",
       "\n",
       "   intended_balcon_amount payment_type  zip_count_4w  ...  has_other_cards  \\\n",
       "0              102.453711           AA          1059  ...                0   \n",
       "1               -0.849551           AD          1658  ...                0   \n",
       "2               -1.490386           AB          1095  ...                0   \n",
       "3               -1.863101           AB          3483  ...                0   \n",
       "4               47.152498           AA          2339  ...                0   \n",
       "\n",
       "   proposed_credit_limit  foreign_request    source  \\\n",
       "0                 1500.0                0  INTERNET   \n",
       "1                 1500.0                0  INTERNET   \n",
       "2                  200.0                0  INTERNET   \n",
       "3                  200.0                0  INTERNET   \n",
       "4                  200.0                0  INTERNET   \n",
       "\n",
       "   session_length_in_minutes device_os  keep_alive_session  \\\n",
       "0                  16.224843     linux                   1   \n",
       "1                   3.363854     other                   1   \n",
       "2                  22.730559   windows                   0   \n",
       "3                  15.215816     linux                   1   \n",
       "4                   3.743048     other                   0   \n",
       "\n",
       "   device_distinct_emails_8w device_fraud_count  month  \n",
       "0                          1                  0      0  \n",
       "1                          1                  0      0  \n",
       "2                          1                  0      0  \n",
       "3                          1                  0      0  \n",
       "4                          1                  0      0  \n",
       "\n",
       "[5 rows x 32 columns]"
      ]
     },
     "execution_count": 2,
     "metadata": {},
     "output_type": "execute_result"
    }
   ],
   "source": [
    "#Inport the dataset and convert it into a pandas dataframe\n",
    "rawData = pd.read_csv('Base.csv')\n",
    "print(\"Shape of the raw data\", rawData.shape) \n",
    "\n",
    "#Overview of data instances\n",
    "rawData.head()"
   ]
  },
  {
   "cell_type": "markdown",
   "metadata": {},
   "source": [
    "**1.2. Exploratory Data Analysis (EDA)**"
   ]
  },
  {
   "cell_type": "code",
   "execution_count": 3,
   "metadata": {},
   "outputs": [
    {
     "name": "stdout",
     "output_type": "stream",
     "text": [
      "<class 'pandas.core.frame.DataFrame'>\n",
      "RangeIndex: 1000000 entries, 0 to 999999\n",
      "Data columns (total 32 columns):\n",
      " #   Column                            Non-Null Count    Dtype  \n",
      "---  ------                            --------------    -----  \n",
      " 0   fraud_bool                        1000000 non-null  int64  \n",
      " 1   income                            1000000 non-null  float64\n",
      " 2   name_email_similarity             1000000 non-null  float64\n",
      " 3   prev_address_months_count         1000000 non-null  int64  \n",
      " 4   current_address_months_count      1000000 non-null  int64  \n",
      " 5   customer_age                      1000000 non-null  int64  \n",
      " 6   days_since_request                1000000 non-null  float64\n",
      " 7   intended_balcon_amount            1000000 non-null  float64\n",
      " 8   payment_type                      1000000 non-null  object \n",
      " 9   zip_count_4w                      1000000 non-null  int64  \n",
      " 10  velocity_6h                       1000000 non-null  float64\n",
      " 11  velocity_24h                      1000000 non-null  float64\n",
      " 12  velocity_4w                       1000000 non-null  float64\n",
      " 13  bank_branch_count_8w              1000000 non-null  int64  \n",
      " 14  date_of_birth_distinct_emails_4w  1000000 non-null  int64  \n",
      " 15  employment_status                 1000000 non-null  object \n",
      " 16  credit_risk_score                 1000000 non-null  int64  \n",
      " 17  email_is_free                     1000000 non-null  int64  \n",
      " 18  housing_status                    1000000 non-null  object \n",
      " 19  phone_home_valid                  1000000 non-null  int64  \n",
      " 20  phone_mobile_valid                1000000 non-null  int64  \n",
      " 21  bank_months_count                 1000000 non-null  int64  \n",
      " 22  has_other_cards                   1000000 non-null  int64  \n",
      " 23  proposed_credit_limit             1000000 non-null  float64\n",
      " 24  foreign_request                   1000000 non-null  int64  \n",
      " 25  source                            1000000 non-null  object \n",
      " 26  session_length_in_minutes         1000000 non-null  float64\n",
      " 27  device_os                         1000000 non-null  object \n",
      " 28  keep_alive_session                1000000 non-null  int64  \n",
      " 29  device_distinct_emails_8w         1000000 non-null  int64  \n",
      " 30  device_fraud_count                1000000 non-null  int64  \n",
      " 31  month                             1000000 non-null  int64  \n",
      "dtypes: float64(9), int64(18), object(5)\n",
      "memory usage: 244.1+ MB\n"
     ]
    }
   ],
   "source": [
    "#Check data types\n",
    "rawData.info()"
   ]
  },
  {
   "cell_type": "code",
   "execution_count": 4,
   "metadata": {},
   "outputs": [
    {
     "data": {
      "text/html": [
       "<div>\n",
       "<style scoped>\n",
       "    .dataframe tbody tr th:only-of-type {\n",
       "        vertical-align: middle;\n",
       "    }\n",
       "\n",
       "    .dataframe tbody tr th {\n",
       "        vertical-align: top;\n",
       "    }\n",
       "\n",
       "    .dataframe thead th {\n",
       "        text-align: right;\n",
       "    }\n",
       "</style>\n",
       "<table border=\"1\" class=\"dataframe\">\n",
       "  <thead>\n",
       "    <tr style=\"text-align: right;\">\n",
       "      <th></th>\n",
       "      <th>count</th>\n",
       "      <th>mean</th>\n",
       "      <th>std</th>\n",
       "      <th>min</th>\n",
       "      <th>25%</th>\n",
       "      <th>50%</th>\n",
       "      <th>75%</th>\n",
       "      <th>max</th>\n",
       "    </tr>\n",
       "  </thead>\n",
       "  <tbody>\n",
       "    <tr>\n",
       "      <th>fraud_bool</th>\n",
       "      <td>1000000.0</td>\n",
       "      <td>0.011029</td>\n",
       "      <td>0.104438</td>\n",
       "      <td>0.000000e+00</td>\n",
       "      <td>0.000000</td>\n",
       "      <td>0.000000</td>\n",
       "      <td>0.000000</td>\n",
       "      <td>1.000000</td>\n",
       "    </tr>\n",
       "    <tr>\n",
       "      <th>income</th>\n",
       "      <td>1000000.0</td>\n",
       "      <td>0.562696</td>\n",
       "      <td>0.290343</td>\n",
       "      <td>1.000000e-01</td>\n",
       "      <td>0.300000</td>\n",
       "      <td>0.600000</td>\n",
       "      <td>0.800000</td>\n",
       "      <td>0.900000</td>\n",
       "    </tr>\n",
       "    <tr>\n",
       "      <th>name_email_similarity</th>\n",
       "      <td>1000000.0</td>\n",
       "      <td>0.493694</td>\n",
       "      <td>0.289125</td>\n",
       "      <td>1.434550e-06</td>\n",
       "      <td>0.225216</td>\n",
       "      <td>0.492153</td>\n",
       "      <td>0.755567</td>\n",
       "      <td>0.999999</td>\n",
       "    </tr>\n",
       "    <tr>\n",
       "      <th>prev_address_months_count</th>\n",
       "      <td>1000000.0</td>\n",
       "      <td>16.718568</td>\n",
       "      <td>44.046230</td>\n",
       "      <td>-1.000000e+00</td>\n",
       "      <td>-1.000000</td>\n",
       "      <td>-1.000000</td>\n",
       "      <td>12.000000</td>\n",
       "      <td>383.000000</td>\n",
       "    </tr>\n",
       "    <tr>\n",
       "      <th>current_address_months_count</th>\n",
       "      <td>1000000.0</td>\n",
       "      <td>86.587867</td>\n",
       "      <td>88.406599</td>\n",
       "      <td>-1.000000e+00</td>\n",
       "      <td>19.000000</td>\n",
       "      <td>52.000000</td>\n",
       "      <td>130.000000</td>\n",
       "      <td>428.000000</td>\n",
       "    </tr>\n",
       "    <tr>\n",
       "      <th>customer_age</th>\n",
       "      <td>1000000.0</td>\n",
       "      <td>33.689080</td>\n",
       "      <td>12.025799</td>\n",
       "      <td>1.000000e+01</td>\n",
       "      <td>20.000000</td>\n",
       "      <td>30.000000</td>\n",
       "      <td>40.000000</td>\n",
       "      <td>90.000000</td>\n",
       "    </tr>\n",
       "    <tr>\n",
       "      <th>days_since_request</th>\n",
       "      <td>1000000.0</td>\n",
       "      <td>1.025705</td>\n",
       "      <td>5.381835</td>\n",
       "      <td>4.036860e-09</td>\n",
       "      <td>0.007193</td>\n",
       "      <td>0.015176</td>\n",
       "      <td>0.026331</td>\n",
       "      <td>78.456904</td>\n",
       "    </tr>\n",
       "    <tr>\n",
       "      <th>intended_balcon_amount</th>\n",
       "      <td>1000000.0</td>\n",
       "      <td>8.661499</td>\n",
       "      <td>20.236155</td>\n",
       "      <td>-1.553055e+01</td>\n",
       "      <td>-1.181488</td>\n",
       "      <td>-0.830507</td>\n",
       "      <td>4.984176</td>\n",
       "      <td>112.956928</td>\n",
       "    </tr>\n",
       "    <tr>\n",
       "      <th>zip_count_4w</th>\n",
       "      <td>1000000.0</td>\n",
       "      <td>1572.692049</td>\n",
       "      <td>1005.374565</td>\n",
       "      <td>1.000000e+00</td>\n",
       "      <td>894.000000</td>\n",
       "      <td>1263.000000</td>\n",
       "      <td>1944.000000</td>\n",
       "      <td>6700.000000</td>\n",
       "    </tr>\n",
       "    <tr>\n",
       "      <th>velocity_6h</th>\n",
       "      <td>1000000.0</td>\n",
       "      <td>5665.296605</td>\n",
       "      <td>3009.380665</td>\n",
       "      <td>-1.706031e+02</td>\n",
       "      <td>3436.365848</td>\n",
       "      <td>5319.769349</td>\n",
       "      <td>7680.717827</td>\n",
       "      <td>16715.565404</td>\n",
       "    </tr>\n",
       "    <tr>\n",
       "      <th>velocity_24h</th>\n",
       "      <td>1000000.0</td>\n",
       "      <td>4769.781965</td>\n",
       "      <td>1479.212612</td>\n",
       "      <td>1.300307e+03</td>\n",
       "      <td>3593.179135</td>\n",
       "      <td>4749.921161</td>\n",
       "      <td>5752.574191</td>\n",
       "      <td>9506.896596</td>\n",
       "    </tr>\n",
       "    <tr>\n",
       "      <th>velocity_4w</th>\n",
       "      <td>1000000.0</td>\n",
       "      <td>4856.324016</td>\n",
       "      <td>919.843934</td>\n",
       "      <td>2.825748e+03</td>\n",
       "      <td>4268.368423</td>\n",
       "      <td>4913.436941</td>\n",
       "      <td>5488.083356</td>\n",
       "      <td>6994.764201</td>\n",
       "    </tr>\n",
       "    <tr>\n",
       "      <th>bank_branch_count_8w</th>\n",
       "      <td>1000000.0</td>\n",
       "      <td>184.361849</td>\n",
       "      <td>459.625329</td>\n",
       "      <td>0.000000e+00</td>\n",
       "      <td>1.000000</td>\n",
       "      <td>9.000000</td>\n",
       "      <td>25.000000</td>\n",
       "      <td>2385.000000</td>\n",
       "    </tr>\n",
       "    <tr>\n",
       "      <th>date_of_birth_distinct_emails_4w</th>\n",
       "      <td>1000000.0</td>\n",
       "      <td>9.503544</td>\n",
       "      <td>5.033792</td>\n",
       "      <td>0.000000e+00</td>\n",
       "      <td>6.000000</td>\n",
       "      <td>9.000000</td>\n",
       "      <td>13.000000</td>\n",
       "      <td>39.000000</td>\n",
       "    </tr>\n",
       "    <tr>\n",
       "      <th>credit_risk_score</th>\n",
       "      <td>1000000.0</td>\n",
       "      <td>130.989595</td>\n",
       "      <td>69.681812</td>\n",
       "      <td>-1.700000e+02</td>\n",
       "      <td>83.000000</td>\n",
       "      <td>122.000000</td>\n",
       "      <td>178.000000</td>\n",
       "      <td>389.000000</td>\n",
       "    </tr>\n",
       "    <tr>\n",
       "      <th>email_is_free</th>\n",
       "      <td>1000000.0</td>\n",
       "      <td>0.529886</td>\n",
       "      <td>0.499106</td>\n",
       "      <td>0.000000e+00</td>\n",
       "      <td>0.000000</td>\n",
       "      <td>1.000000</td>\n",
       "      <td>1.000000</td>\n",
       "      <td>1.000000</td>\n",
       "    </tr>\n",
       "    <tr>\n",
       "      <th>phone_home_valid</th>\n",
       "      <td>1000000.0</td>\n",
       "      <td>0.417077</td>\n",
       "      <td>0.493076</td>\n",
       "      <td>0.000000e+00</td>\n",
       "      <td>0.000000</td>\n",
       "      <td>0.000000</td>\n",
       "      <td>1.000000</td>\n",
       "      <td>1.000000</td>\n",
       "    </tr>\n",
       "    <tr>\n",
       "      <th>phone_mobile_valid</th>\n",
       "      <td>1000000.0</td>\n",
       "      <td>0.889676</td>\n",
       "      <td>0.313293</td>\n",
       "      <td>0.000000e+00</td>\n",
       "      <td>1.000000</td>\n",
       "      <td>1.000000</td>\n",
       "      <td>1.000000</td>\n",
       "      <td>1.000000</td>\n",
       "    </tr>\n",
       "    <tr>\n",
       "      <th>bank_months_count</th>\n",
       "      <td>1000000.0</td>\n",
       "      <td>10.839303</td>\n",
       "      <td>12.116875</td>\n",
       "      <td>-1.000000e+00</td>\n",
       "      <td>-1.000000</td>\n",
       "      <td>5.000000</td>\n",
       "      <td>25.000000</td>\n",
       "      <td>32.000000</td>\n",
       "    </tr>\n",
       "    <tr>\n",
       "      <th>has_other_cards</th>\n",
       "      <td>1000000.0</td>\n",
       "      <td>0.222988</td>\n",
       "      <td>0.416251</td>\n",
       "      <td>0.000000e+00</td>\n",
       "      <td>0.000000</td>\n",
       "      <td>0.000000</td>\n",
       "      <td>0.000000</td>\n",
       "      <td>1.000000</td>\n",
       "    </tr>\n",
       "    <tr>\n",
       "      <th>proposed_credit_limit</th>\n",
       "      <td>1000000.0</td>\n",
       "      <td>515.851010</td>\n",
       "      <td>487.559902</td>\n",
       "      <td>1.900000e+02</td>\n",
       "      <td>200.000000</td>\n",
       "      <td>200.000000</td>\n",
       "      <td>500.000000</td>\n",
       "      <td>2100.000000</td>\n",
       "    </tr>\n",
       "    <tr>\n",
       "      <th>foreign_request</th>\n",
       "      <td>1000000.0</td>\n",
       "      <td>0.025242</td>\n",
       "      <td>0.156859</td>\n",
       "      <td>0.000000e+00</td>\n",
       "      <td>0.000000</td>\n",
       "      <td>0.000000</td>\n",
       "      <td>0.000000</td>\n",
       "      <td>1.000000</td>\n",
       "    </tr>\n",
       "    <tr>\n",
       "      <th>session_length_in_minutes</th>\n",
       "      <td>1000000.0</td>\n",
       "      <td>7.544940</td>\n",
       "      <td>8.033106</td>\n",
       "      <td>-1.000000e+00</td>\n",
       "      <td>3.103053</td>\n",
       "      <td>5.114321</td>\n",
       "      <td>8.866131</td>\n",
       "      <td>85.899143</td>\n",
       "    </tr>\n",
       "    <tr>\n",
       "      <th>keep_alive_session</th>\n",
       "      <td>1000000.0</td>\n",
       "      <td>0.576947</td>\n",
       "      <td>0.494044</td>\n",
       "      <td>0.000000e+00</td>\n",
       "      <td>0.000000</td>\n",
       "      <td>1.000000</td>\n",
       "      <td>1.000000</td>\n",
       "      <td>1.000000</td>\n",
       "    </tr>\n",
       "    <tr>\n",
       "      <th>device_distinct_emails_8w</th>\n",
       "      <td>1000000.0</td>\n",
       "      <td>1.018312</td>\n",
       "      <td>0.180761</td>\n",
       "      <td>-1.000000e+00</td>\n",
       "      <td>1.000000</td>\n",
       "      <td>1.000000</td>\n",
       "      <td>1.000000</td>\n",
       "      <td>2.000000</td>\n",
       "    </tr>\n",
       "    <tr>\n",
       "      <th>device_fraud_count</th>\n",
       "      <td>1000000.0</td>\n",
       "      <td>0.000000</td>\n",
       "      <td>0.000000</td>\n",
       "      <td>0.000000e+00</td>\n",
       "      <td>0.000000</td>\n",
       "      <td>0.000000</td>\n",
       "      <td>0.000000</td>\n",
       "      <td>0.000000</td>\n",
       "    </tr>\n",
       "    <tr>\n",
       "      <th>month</th>\n",
       "      <td>1000000.0</td>\n",
       "      <td>3.288674</td>\n",
       "      <td>2.209994</td>\n",
       "      <td>0.000000e+00</td>\n",
       "      <td>1.000000</td>\n",
       "      <td>3.000000</td>\n",
       "      <td>5.000000</td>\n",
       "      <td>7.000000</td>\n",
       "    </tr>\n",
       "  </tbody>\n",
       "</table>\n",
       "</div>"
      ],
      "text/plain": [
       "                                      count         mean          std  \\\n",
       "fraud_bool                        1000000.0     0.011029     0.104438   \n",
       "income                            1000000.0     0.562696     0.290343   \n",
       "name_email_similarity             1000000.0     0.493694     0.289125   \n",
       "prev_address_months_count         1000000.0    16.718568    44.046230   \n",
       "current_address_months_count      1000000.0    86.587867    88.406599   \n",
       "customer_age                      1000000.0    33.689080    12.025799   \n",
       "days_since_request                1000000.0     1.025705     5.381835   \n",
       "intended_balcon_amount            1000000.0     8.661499    20.236155   \n",
       "zip_count_4w                      1000000.0  1572.692049  1005.374565   \n",
       "velocity_6h                       1000000.0  5665.296605  3009.380665   \n",
       "velocity_24h                      1000000.0  4769.781965  1479.212612   \n",
       "velocity_4w                       1000000.0  4856.324016   919.843934   \n",
       "bank_branch_count_8w              1000000.0   184.361849   459.625329   \n",
       "date_of_birth_distinct_emails_4w  1000000.0     9.503544     5.033792   \n",
       "credit_risk_score                 1000000.0   130.989595    69.681812   \n",
       "email_is_free                     1000000.0     0.529886     0.499106   \n",
       "phone_home_valid                  1000000.0     0.417077     0.493076   \n",
       "phone_mobile_valid                1000000.0     0.889676     0.313293   \n",
       "bank_months_count                 1000000.0    10.839303    12.116875   \n",
       "has_other_cards                   1000000.0     0.222988     0.416251   \n",
       "proposed_credit_limit             1000000.0   515.851010   487.559902   \n",
       "foreign_request                   1000000.0     0.025242     0.156859   \n",
       "session_length_in_minutes         1000000.0     7.544940     8.033106   \n",
       "keep_alive_session                1000000.0     0.576947     0.494044   \n",
       "device_distinct_emails_8w         1000000.0     1.018312     0.180761   \n",
       "device_fraud_count                1000000.0     0.000000     0.000000   \n",
       "month                             1000000.0     3.288674     2.209994   \n",
       "\n",
       "                                           min          25%          50%  \\\n",
       "fraud_bool                        0.000000e+00     0.000000     0.000000   \n",
       "income                            1.000000e-01     0.300000     0.600000   \n",
       "name_email_similarity             1.434550e-06     0.225216     0.492153   \n",
       "prev_address_months_count        -1.000000e+00    -1.000000    -1.000000   \n",
       "current_address_months_count     -1.000000e+00    19.000000    52.000000   \n",
       "customer_age                      1.000000e+01    20.000000    30.000000   \n",
       "days_since_request                4.036860e-09     0.007193     0.015176   \n",
       "intended_balcon_amount           -1.553055e+01    -1.181488    -0.830507   \n",
       "zip_count_4w                      1.000000e+00   894.000000  1263.000000   \n",
       "velocity_6h                      -1.706031e+02  3436.365848  5319.769349   \n",
       "velocity_24h                      1.300307e+03  3593.179135  4749.921161   \n",
       "velocity_4w                       2.825748e+03  4268.368423  4913.436941   \n",
       "bank_branch_count_8w              0.000000e+00     1.000000     9.000000   \n",
       "date_of_birth_distinct_emails_4w  0.000000e+00     6.000000     9.000000   \n",
       "credit_risk_score                -1.700000e+02    83.000000   122.000000   \n",
       "email_is_free                     0.000000e+00     0.000000     1.000000   \n",
       "phone_home_valid                  0.000000e+00     0.000000     0.000000   \n",
       "phone_mobile_valid                0.000000e+00     1.000000     1.000000   \n",
       "bank_months_count                -1.000000e+00    -1.000000     5.000000   \n",
       "has_other_cards                   0.000000e+00     0.000000     0.000000   \n",
       "proposed_credit_limit             1.900000e+02   200.000000   200.000000   \n",
       "foreign_request                   0.000000e+00     0.000000     0.000000   \n",
       "session_length_in_minutes        -1.000000e+00     3.103053     5.114321   \n",
       "keep_alive_session                0.000000e+00     0.000000     1.000000   \n",
       "device_distinct_emails_8w        -1.000000e+00     1.000000     1.000000   \n",
       "device_fraud_count                0.000000e+00     0.000000     0.000000   \n",
       "month                             0.000000e+00     1.000000     3.000000   \n",
       "\n",
       "                                          75%           max  \n",
       "fraud_bool                           0.000000      1.000000  \n",
       "income                               0.800000      0.900000  \n",
       "name_email_similarity                0.755567      0.999999  \n",
       "prev_address_months_count           12.000000    383.000000  \n",
       "current_address_months_count       130.000000    428.000000  \n",
       "customer_age                        40.000000     90.000000  \n",
       "days_since_request                   0.026331     78.456904  \n",
       "intended_balcon_amount               4.984176    112.956928  \n",
       "zip_count_4w                      1944.000000   6700.000000  \n",
       "velocity_6h                       7680.717827  16715.565404  \n",
       "velocity_24h                      5752.574191   9506.896596  \n",
       "velocity_4w                       5488.083356   6994.764201  \n",
       "bank_branch_count_8w                25.000000   2385.000000  \n",
       "date_of_birth_distinct_emails_4w    13.000000     39.000000  \n",
       "credit_risk_score                  178.000000    389.000000  \n",
       "email_is_free                        1.000000      1.000000  \n",
       "phone_home_valid                     1.000000      1.000000  \n",
       "phone_mobile_valid                   1.000000      1.000000  \n",
       "bank_months_count                   25.000000     32.000000  \n",
       "has_other_cards                      0.000000      1.000000  \n",
       "proposed_credit_limit              500.000000   2100.000000  \n",
       "foreign_request                      0.000000      1.000000  \n",
       "session_length_in_minutes            8.866131     85.899143  \n",
       "keep_alive_session                   1.000000      1.000000  \n",
       "device_distinct_emails_8w            1.000000      2.000000  \n",
       "device_fraud_count                   0.000000      0.000000  \n",
       "month                                5.000000      7.000000  "
      ]
     },
     "execution_count": 4,
     "metadata": {},
     "output_type": "execute_result"
    }
   ],
   "source": [
    "#Summary Statistics\n",
    "rawData.describe().T"
   ]
  },
  {
   "cell_type": "code",
   "execution_count": 5,
   "metadata": {},
   "outputs": [
    {
     "data": {
      "application/vnd.plotly.v1+json": {
       "config": {
        "plotlyServerURL": "https://plot.ly"
       },
       "data": [
        {
         "hole": 0.3,
         "hoverinfo": "label+percent",
         "labels": [
          "Non-Fraud",
          "Fraud"
         ],
         "marker": {
          "colors": [
           "#004B87",
           "LightBlue"
          ],
          "line": {
           "color": "black",
           "width": 0.1
          }
         },
         "textfont": {
          "size": 20
         },
         "textinfo": "percent",
         "type": "pie",
         "values": [
          0.988971,
          0.011029
         ]
        }
       ],
       "layout": {
        "font": {
         "color": "black"
        },
        "legend": {
         "title": {
          "font": {
           "color": "black"
          }
         }
        },
        "paper_bgcolor": "white",
        "plot_bgcolor": "white",
        "template": {
         "data": {
          "bar": [
           {
            "error_x": {
             "color": "#2a3f5f"
            },
            "error_y": {
             "color": "#2a3f5f"
            },
            "marker": {
             "line": {
              "color": "#E5ECF6",
              "width": 0.5
             },
             "pattern": {
              "fillmode": "overlay",
              "size": 10,
              "solidity": 0.2
             }
            },
            "type": "bar"
           }
          ],
          "barpolar": [
           {
            "marker": {
             "line": {
              "color": "#E5ECF6",
              "width": 0.5
             },
             "pattern": {
              "fillmode": "overlay",
              "size": 10,
              "solidity": 0.2
             }
            },
            "type": "barpolar"
           }
          ],
          "carpet": [
           {
            "aaxis": {
             "endlinecolor": "#2a3f5f",
             "gridcolor": "white",
             "linecolor": "white",
             "minorgridcolor": "white",
             "startlinecolor": "#2a3f5f"
            },
            "baxis": {
             "endlinecolor": "#2a3f5f",
             "gridcolor": "white",
             "linecolor": "white",
             "minorgridcolor": "white",
             "startlinecolor": "#2a3f5f"
            },
            "type": "carpet"
           }
          ],
          "choropleth": [
           {
            "colorbar": {
             "outlinewidth": 0,
             "ticks": ""
            },
            "type": "choropleth"
           }
          ],
          "contour": [
           {
            "colorbar": {
             "outlinewidth": 0,
             "ticks": ""
            },
            "colorscale": [
             [
              0,
              "#0d0887"
             ],
             [
              0.1111111111111111,
              "#46039f"
             ],
             [
              0.2222222222222222,
              "#7201a8"
             ],
             [
              0.3333333333333333,
              "#9c179e"
             ],
             [
              0.4444444444444444,
              "#bd3786"
             ],
             [
              0.5555555555555556,
              "#d8576b"
             ],
             [
              0.6666666666666666,
              "#ed7953"
             ],
             [
              0.7777777777777778,
              "#fb9f3a"
             ],
             [
              0.8888888888888888,
              "#fdca26"
             ],
             [
              1,
              "#f0f921"
             ]
            ],
            "type": "contour"
           }
          ],
          "contourcarpet": [
           {
            "colorbar": {
             "outlinewidth": 0,
             "ticks": ""
            },
            "type": "contourcarpet"
           }
          ],
          "heatmap": [
           {
            "colorbar": {
             "outlinewidth": 0,
             "ticks": ""
            },
            "colorscale": [
             [
              0,
              "#0d0887"
             ],
             [
              0.1111111111111111,
              "#46039f"
             ],
             [
              0.2222222222222222,
              "#7201a8"
             ],
             [
              0.3333333333333333,
              "#9c179e"
             ],
             [
              0.4444444444444444,
              "#bd3786"
             ],
             [
              0.5555555555555556,
              "#d8576b"
             ],
             [
              0.6666666666666666,
              "#ed7953"
             ],
             [
              0.7777777777777778,
              "#fb9f3a"
             ],
             [
              0.8888888888888888,
              "#fdca26"
             ],
             [
              1,
              "#f0f921"
             ]
            ],
            "type": "heatmap"
           }
          ],
          "heatmapgl": [
           {
            "colorbar": {
             "outlinewidth": 0,
             "ticks": ""
            },
            "colorscale": [
             [
              0,
              "#0d0887"
             ],
             [
              0.1111111111111111,
              "#46039f"
             ],
             [
              0.2222222222222222,
              "#7201a8"
             ],
             [
              0.3333333333333333,
              "#9c179e"
             ],
             [
              0.4444444444444444,
              "#bd3786"
             ],
             [
              0.5555555555555556,
              "#d8576b"
             ],
             [
              0.6666666666666666,
              "#ed7953"
             ],
             [
              0.7777777777777778,
              "#fb9f3a"
             ],
             [
              0.8888888888888888,
              "#fdca26"
             ],
             [
              1,
              "#f0f921"
             ]
            ],
            "type": "heatmapgl"
           }
          ],
          "histogram": [
           {
            "marker": {
             "pattern": {
              "fillmode": "overlay",
              "size": 10,
              "solidity": 0.2
             }
            },
            "type": "histogram"
           }
          ],
          "histogram2d": [
           {
            "colorbar": {
             "outlinewidth": 0,
             "ticks": ""
            },
            "colorscale": [
             [
              0,
              "#0d0887"
             ],
             [
              0.1111111111111111,
              "#46039f"
             ],
             [
              0.2222222222222222,
              "#7201a8"
             ],
             [
              0.3333333333333333,
              "#9c179e"
             ],
             [
              0.4444444444444444,
              "#bd3786"
             ],
             [
              0.5555555555555556,
              "#d8576b"
             ],
             [
              0.6666666666666666,
              "#ed7953"
             ],
             [
              0.7777777777777778,
              "#fb9f3a"
             ],
             [
              0.8888888888888888,
              "#fdca26"
             ],
             [
              1,
              "#f0f921"
             ]
            ],
            "type": "histogram2d"
           }
          ],
          "histogram2dcontour": [
           {
            "colorbar": {
             "outlinewidth": 0,
             "ticks": ""
            },
            "colorscale": [
             [
              0,
              "#0d0887"
             ],
             [
              0.1111111111111111,
              "#46039f"
             ],
             [
              0.2222222222222222,
              "#7201a8"
             ],
             [
              0.3333333333333333,
              "#9c179e"
             ],
             [
              0.4444444444444444,
              "#bd3786"
             ],
             [
              0.5555555555555556,
              "#d8576b"
             ],
             [
              0.6666666666666666,
              "#ed7953"
             ],
             [
              0.7777777777777778,
              "#fb9f3a"
             ],
             [
              0.8888888888888888,
              "#fdca26"
             ],
             [
              1,
              "#f0f921"
             ]
            ],
            "type": "histogram2dcontour"
           }
          ],
          "mesh3d": [
           {
            "colorbar": {
             "outlinewidth": 0,
             "ticks": ""
            },
            "type": "mesh3d"
           }
          ],
          "parcoords": [
           {
            "line": {
             "colorbar": {
              "outlinewidth": 0,
              "ticks": ""
             }
            },
            "type": "parcoords"
           }
          ],
          "pie": [
           {
            "automargin": true,
            "type": "pie"
           }
          ],
          "scatter": [
           {
            "fillpattern": {
             "fillmode": "overlay",
             "size": 10,
             "solidity": 0.2
            },
            "type": "scatter"
           }
          ],
          "scatter3d": [
           {
            "line": {
             "colorbar": {
              "outlinewidth": 0,
              "ticks": ""
             }
            },
            "marker": {
             "colorbar": {
              "outlinewidth": 0,
              "ticks": ""
             }
            },
            "type": "scatter3d"
           }
          ],
          "scattercarpet": [
           {
            "marker": {
             "colorbar": {
              "outlinewidth": 0,
              "ticks": ""
             }
            },
            "type": "scattercarpet"
           }
          ],
          "scattergeo": [
           {
            "marker": {
             "colorbar": {
              "outlinewidth": 0,
              "ticks": ""
             }
            },
            "type": "scattergeo"
           }
          ],
          "scattergl": [
           {
            "marker": {
             "colorbar": {
              "outlinewidth": 0,
              "ticks": ""
             }
            },
            "type": "scattergl"
           }
          ],
          "scattermapbox": [
           {
            "marker": {
             "colorbar": {
              "outlinewidth": 0,
              "ticks": ""
             }
            },
            "type": "scattermapbox"
           }
          ],
          "scatterpolar": [
           {
            "marker": {
             "colorbar": {
              "outlinewidth": 0,
              "ticks": ""
             }
            },
            "type": "scatterpolar"
           }
          ],
          "scatterpolargl": [
           {
            "marker": {
             "colorbar": {
              "outlinewidth": 0,
              "ticks": ""
             }
            },
            "type": "scatterpolargl"
           }
          ],
          "scatterternary": [
           {
            "marker": {
             "colorbar": {
              "outlinewidth": 0,
              "ticks": ""
             }
            },
            "type": "scatterternary"
           }
          ],
          "surface": [
           {
            "colorbar": {
             "outlinewidth": 0,
             "ticks": ""
            },
            "colorscale": [
             [
              0,
              "#0d0887"
             ],
             [
              0.1111111111111111,
              "#46039f"
             ],
             [
              0.2222222222222222,
              "#7201a8"
             ],
             [
              0.3333333333333333,
              "#9c179e"
             ],
             [
              0.4444444444444444,
              "#bd3786"
             ],
             [
              0.5555555555555556,
              "#d8576b"
             ],
             [
              0.6666666666666666,
              "#ed7953"
             ],
             [
              0.7777777777777778,
              "#fb9f3a"
             ],
             [
              0.8888888888888888,
              "#fdca26"
             ],
             [
              1,
              "#f0f921"
             ]
            ],
            "type": "surface"
           }
          ],
          "table": [
           {
            "cells": {
             "fill": {
              "color": "#EBF0F8"
             },
             "line": {
              "color": "white"
             }
            },
            "header": {
             "fill": {
              "color": "#C8D4E3"
             },
             "line": {
              "color": "white"
             }
            },
            "type": "table"
           }
          ]
         },
         "layout": {
          "annotationdefaults": {
           "arrowcolor": "#2a3f5f",
           "arrowhead": 0,
           "arrowwidth": 1
          },
          "autotypenumbers": "strict",
          "coloraxis": {
           "colorbar": {
            "outlinewidth": 0,
            "ticks": ""
           }
          },
          "colorscale": {
           "diverging": [
            [
             0,
             "#8e0152"
            ],
            [
             0.1,
             "#c51b7d"
            ],
            [
             0.2,
             "#de77ae"
            ],
            [
             0.3,
             "#f1b6da"
            ],
            [
             0.4,
             "#fde0ef"
            ],
            [
             0.5,
             "#f7f7f7"
            ],
            [
             0.6,
             "#e6f5d0"
            ],
            [
             0.7,
             "#b8e186"
            ],
            [
             0.8,
             "#7fbc41"
            ],
            [
             0.9,
             "#4d9221"
            ],
            [
             1,
             "#276419"
            ]
           ],
           "sequential": [
            [
             0,
             "#0d0887"
            ],
            [
             0.1111111111111111,
             "#46039f"
            ],
            [
             0.2222222222222222,
             "#7201a8"
            ],
            [
             0.3333333333333333,
             "#9c179e"
            ],
            [
             0.4444444444444444,
             "#bd3786"
            ],
            [
             0.5555555555555556,
             "#d8576b"
            ],
            [
             0.6666666666666666,
             "#ed7953"
            ],
            [
             0.7777777777777778,
             "#fb9f3a"
            ],
            [
             0.8888888888888888,
             "#fdca26"
            ],
            [
             1,
             "#f0f921"
            ]
           ],
           "sequentialminus": [
            [
             0,
             "#0d0887"
            ],
            [
             0.1111111111111111,
             "#46039f"
            ],
            [
             0.2222222222222222,
             "#7201a8"
            ],
            [
             0.3333333333333333,
             "#9c179e"
            ],
            [
             0.4444444444444444,
             "#bd3786"
            ],
            [
             0.5555555555555556,
             "#d8576b"
            ],
            [
             0.6666666666666666,
             "#ed7953"
            ],
            [
             0.7777777777777778,
             "#fb9f3a"
            ],
            [
             0.8888888888888888,
             "#fdca26"
            ],
            [
             1,
             "#f0f921"
            ]
           ]
          },
          "colorway": [
           "#636efa",
           "#EF553B",
           "#00cc96",
           "#ab63fa",
           "#FFA15A",
           "#19d3f3",
           "#FF6692",
           "#B6E880",
           "#FF97FF",
           "#FECB52"
          ],
          "font": {
           "color": "#2a3f5f"
          },
          "geo": {
           "bgcolor": "white",
           "lakecolor": "white",
           "landcolor": "#E5ECF6",
           "showlakes": true,
           "showland": true,
           "subunitcolor": "white"
          },
          "hoverlabel": {
           "align": "left"
          },
          "hovermode": "closest",
          "mapbox": {
           "style": "light"
          },
          "paper_bgcolor": "white",
          "plot_bgcolor": "#E5ECF6",
          "polar": {
           "angularaxis": {
            "gridcolor": "white",
            "linecolor": "white",
            "ticks": ""
           },
           "bgcolor": "#E5ECF6",
           "radialaxis": {
            "gridcolor": "white",
            "linecolor": "white",
            "ticks": ""
           }
          },
          "scene": {
           "xaxis": {
            "backgroundcolor": "#E5ECF6",
            "gridcolor": "white",
            "gridwidth": 2,
            "linecolor": "white",
            "showbackground": true,
            "ticks": "",
            "zerolinecolor": "white"
           },
           "yaxis": {
            "backgroundcolor": "#E5ECF6",
            "gridcolor": "white",
            "gridwidth": 2,
            "linecolor": "white",
            "showbackground": true,
            "ticks": "",
            "zerolinecolor": "white"
           },
           "zaxis": {
            "backgroundcolor": "#E5ECF6",
            "gridcolor": "white",
            "gridwidth": 2,
            "linecolor": "white",
            "showbackground": true,
            "ticks": "",
            "zerolinecolor": "white"
           }
          },
          "shapedefaults": {
           "line": {
            "color": "#2a3f5f"
           }
          },
          "ternary": {
           "aaxis": {
            "gridcolor": "white",
            "linecolor": "white",
            "ticks": ""
           },
           "baxis": {
            "gridcolor": "white",
            "linecolor": "white",
            "ticks": ""
           },
           "bgcolor": "#E5ECF6",
           "caxis": {
            "gridcolor": "white",
            "linecolor": "white",
            "ticks": ""
           }
          },
          "title": {
           "x": 0.05
          },
          "xaxis": {
           "automargin": true,
           "gridcolor": "white",
           "linecolor": "white",
           "ticks": "",
           "title": {
            "standoff": 15
           },
           "zerolinecolor": "white",
           "zerolinewidth": 2
          },
          "yaxis": {
           "automargin": true,
           "gridcolor": "white",
           "linecolor": "white",
           "ticks": "",
           "title": {
            "standoff": 15
           },
           "zerolinecolor": "white",
           "zerolinewidth": 2
          }
         }
        },
        "title": {
         "font": {
          "color": "black",
          "size": 24
         },
         "text": "<b>Credit Card Fraud</b>"
        }
       }
      }
     },
     "metadata": {},
     "output_type": "display_data"
    }
   ],
   "source": [
    "#Visualizing Class Distribution\n",
    "colors = ['#004B87', 'LightBlue'] \n",
    "labels = ['Non-Fraud', 'Fraud']\n",
    "values = rawData['fraud_bool'].value_counts() / rawData['fraud_bool'].shape[0]\n",
    "total_normal = rawData[rawData['fraud_bool'] == False].shape[0]\n",
    "total_fraudulent = rawData[rawData['fraud_bool'] == True].shape[0]\n",
    "\n",
    "fig = go.Figure(data=[go.Pie(labels=labels, values=values, hole=.3)])\n",
    "fig.update_traces(hoverinfo='label+percent', textinfo='percent', textfont_size=20,\n",
    "                  marker=dict(colors=colors, line=dict(color='black', width=0.1)))\n",
    "\n",
    "fig.update_layout(\n",
    "    title_text='<b>Credit Card Fraud</b>',\n",
    "    title_font_color='black',\n",
    "    title_font=dict(size=24),\n",
    "    legend_title_font_color='black',\n",
    "    paper_bgcolor='white',   \n",
    "    plot_bgcolor='white',    \n",
    "    font_color='black',\n",
    ")\n",
    "\n",
    "fig.show() "
   ]
  },
  {
   "cell_type": "markdown",
   "metadata": {},
   "source": [
    "# ***2. Preprocessing and Data Cleaning***"
   ]
  },
  {
   "cell_type": "markdown",
   "metadata": {},
   "source": [
    "Observation: \\\n",
    "The dataset has a significant class imbalance by the large discrepancy between fraudulent and non-fraudulent transactions.\n",
    "\n",
    "Approach: \\\n",
    "We will apply oversampling technique such as SMOTE. "
   ]
  },
  {
   "cell_type": "markdown",
   "metadata": {},
   "source": [
    "2.1. One-Hot Encoding and Scaling \n",
    "- converts categorical features to numerical format \n",
    "- ensures that features are distributed proportionally"
   ]
  },
  {
   "cell_type": "code",
   "execution_count": 6,
   "metadata": {},
   "outputs": [],
   "source": [
    "X = rawData.drop('fraud_bool', axis=1)\n",
    "y = rawData['fraud_bool'] "
   ]
  },
  {
   "cell_type": "code",
   "execution_count": 7,
   "metadata": {},
   "outputs": [
    {
     "name": "stdout",
     "output_type": "stream",
     "text": [
      "Categorical columns ['payment_type', 'employment_status', 'housing_status', 'source', 'device_os']\n"
     ]
    }
   ],
   "source": [
    "categorical_features = [x for x in X.columns if X[x].dtypes == \"O\"]\n",
    "print(\"Categorical columns\" ,categorical_features)"
   ]
  },
  {
   "cell_type": "code",
   "execution_count": 8,
   "metadata": {},
   "outputs": [],
   "source": [
    "X = pd.DataFrame(pd.get_dummies(X, prefix=categorical_features))"
   ]
  },
  {
   "cell_type": "code",
   "execution_count": 9,
   "metadata": {},
   "outputs": [
    {
     "name": "stdout",
     "output_type": "stream",
     "text": [
      "Columns in X_scaled: Index(['income', 'name_email_similarity', 'prev_address_months_count',\n",
      "       'current_address_months_count', 'customer_age', 'days_since_request',\n",
      "       'intended_balcon_amount', 'zip_count_4w', 'velocity_6h', 'velocity_24h',\n",
      "       'velocity_4w', 'bank_branch_count_8w',\n",
      "       'date_of_birth_distinct_emails_4w', 'credit_risk_score',\n",
      "       'email_is_free', 'phone_home_valid', 'phone_mobile_valid',\n",
      "       'bank_months_count', 'has_other_cards', 'proposed_credit_limit',\n",
      "       'foreign_request', 'session_length_in_minutes', 'keep_alive_session',\n",
      "       'device_distinct_emails_8w', 'device_fraud_count', 'month',\n",
      "       'payment_type_AA', 'payment_type_AB', 'payment_type_AC',\n",
      "       'payment_type_AD', 'payment_type_AE', 'employment_status_CA',\n",
      "       'employment_status_CB', 'employment_status_CC', 'employment_status_CD',\n",
      "       'employment_status_CE', 'employment_status_CF', 'employment_status_CG',\n",
      "       'housing_status_BA', 'housing_status_BB', 'housing_status_BC',\n",
      "       'housing_status_BD', 'housing_status_BE', 'housing_status_BF',\n",
      "       'housing_status_BG', 'source_INTERNET', 'source_TELEAPP',\n",
      "       'device_os_linux', 'device_os_macintosh', 'device_os_other',\n",
      "       'device_os_windows', 'device_os_x11'],\n",
      "      dtype='object')\n"
     ]
    }
   ],
   "source": [
    "#Get numeric featues\n",
    "numeric_features = X.select_dtypes(include=['number'])\n",
    "non_numeric_features = X.select_dtypes(exclude=['number'])\n",
    "\n",
    "#Scaling\n",
    "scaler = StandardScaler()\n",
    "scaled_numeric_features = scaler.fit_transform(numeric_features)\n",
    "scaled_numeric_df = pd.DataFrame(scaled_numeric_features, columns=numeric_features.columns, index=X.index)\n",
    "X_scaled = pd.concat([scaled_numeric_df, non_numeric_features], axis=1)\n",
    "\n",
    "# Verify the DataFrame\n",
    "print(\"Columns in X_scaled:\", X_scaled.columns)"
   ]
  },
  {
   "cell_type": "code",
   "execution_count": 10,
   "metadata": {},
   "outputs": [
    {
     "data": {
      "text/html": [
       "<div>\n",
       "<style scoped>\n",
       "    .dataframe tbody tr th:only-of-type {\n",
       "        vertical-align: middle;\n",
       "    }\n",
       "\n",
       "    .dataframe tbody tr th {\n",
       "        vertical-align: top;\n",
       "    }\n",
       "\n",
       "    .dataframe thead th {\n",
       "        text-align: right;\n",
       "    }\n",
       "</style>\n",
       "<table border=\"1\" class=\"dataframe\">\n",
       "  <thead>\n",
       "    <tr style=\"text-align: right;\">\n",
       "      <th></th>\n",
       "      <th>count</th>\n",
       "      <th>mean</th>\n",
       "      <th>std</th>\n",
       "      <th>min</th>\n",
       "      <th>25%</th>\n",
       "      <th>50%</th>\n",
       "      <th>75%</th>\n",
       "      <th>max</th>\n",
       "    </tr>\n",
       "  </thead>\n",
       "  <tbody>\n",
       "    <tr>\n",
       "      <th>income</th>\n",
       "      <td>1000000.0</td>\n",
       "      <td>-1.859206e-16</td>\n",
       "      <td>1.000001</td>\n",
       "      <td>-1.593620</td>\n",
       "      <td>-0.904778</td>\n",
       "      <td>0.128484</td>\n",
       "      <td>0.817326</td>\n",
       "      <td>1.161747</td>\n",
       "    </tr>\n",
       "    <tr>\n",
       "      <th>name_email_similarity</th>\n",
       "      <td>1000000.0</td>\n",
       "      <td>-1.801208e-16</td>\n",
       "      <td>1.000001</td>\n",
       "      <td>-1.707543</td>\n",
       "      <td>-0.928588</td>\n",
       "      <td>-0.005332</td>\n",
       "      <td>0.905745</td>\n",
       "      <td>1.751166</td>\n",
       "    </tr>\n",
       "    <tr>\n",
       "      <th>prev_address_months_count</th>\n",
       "      <td>1000000.0</td>\n",
       "      <td>-5.044853e-18</td>\n",
       "      <td>1.000001</td>\n",
       "      <td>-0.402272</td>\n",
       "      <td>-0.402272</td>\n",
       "      <td>-0.402272</td>\n",
       "      <td>-0.107128</td>\n",
       "      <td>8.315845</td>\n",
       "    </tr>\n",
       "    <tr>\n",
       "      <th>current_address_months_count</th>\n",
       "      <td>1000000.0</td>\n",
       "      <td>-5.121592e-17</td>\n",
       "      <td>1.000001</td>\n",
       "      <td>-0.990740</td>\n",
       "      <td>-0.764512</td>\n",
       "      <td>-0.391236</td>\n",
       "      <td>0.491051</td>\n",
       "      <td>3.861842</td>\n",
       "    </tr>\n",
       "    <tr>\n",
       "      <th>customer_age</th>\n",
       "      <td>1000000.0</td>\n",
       "      <td>2.421885e-16</td>\n",
       "      <td>1.000001</td>\n",
       "      <td>-1.969856</td>\n",
       "      <td>-1.138310</td>\n",
       "      <td>-0.306764</td>\n",
       "      <td>0.524782</td>\n",
       "      <td>4.682512</td>\n",
       "    </tr>\n",
       "    <tr>\n",
       "      <th>days_since_request</th>\n",
       "      <td>1000000.0</td>\n",
       "      <td>6.065548e-17</td>\n",
       "      <td>1.000001</td>\n",
       "      <td>-0.190587</td>\n",
       "      <td>-0.189250</td>\n",
       "      <td>-0.187767</td>\n",
       "      <td>-0.185694</td>\n",
       "      <td>14.387517</td>\n",
       "    </tr>\n",
       "    <tr>\n",
       "      <th>intended_balcon_amount</th>\n",
       "      <td>1000000.0</td>\n",
       "      <td>-1.108873e-16</td>\n",
       "      <td>1.000001</td>\n",
       "      <td>-1.195487</td>\n",
       "      <td>-0.486406</td>\n",
       "      <td>-0.469062</td>\n",
       "      <td>-0.181721</td>\n",
       "      <td>5.153918</td>\n",
       "    </tr>\n",
       "    <tr>\n",
       "      <th>zip_count_4w</th>\n",
       "      <td>1000000.0</td>\n",
       "      <td>-1.125500e-17</td>\n",
       "      <td>1.000001</td>\n",
       "      <td>-1.563291</td>\n",
       "      <td>-0.675064</td>\n",
       "      <td>-0.308037</td>\n",
       "      <td>0.369323</td>\n",
       "      <td>5.099901</td>\n",
       "    </tr>\n",
       "    <tr>\n",
       "      <th>velocity_6h</th>\n",
       "      <td>1000000.0</td>\n",
       "      <td>3.327614e-16</td>\n",
       "      <td>1.000001</td>\n",
       "      <td>-1.939237</td>\n",
       "      <td>-0.740661</td>\n",
       "      <td>-0.114817</td>\n",
       "      <td>0.669713</td>\n",
       "      <td>3.671943</td>\n",
       "    </tr>\n",
       "    <tr>\n",
       "      <th>velocity_24h</th>\n",
       "      <td>1000000.0</td>\n",
       "      <td>-1.518856e-16</td>\n",
       "      <td>1.000001</td>\n",
       "      <td>-2.345489</td>\n",
       "      <td>-0.795425</td>\n",
       "      <td>-0.013427</td>\n",
       "      <td>0.664403</td>\n",
       "      <td>3.202458</td>\n",
       "    </tr>\n",
       "    <tr>\n",
       "      <th>velocity_4w</th>\n",
       "      <td>1000000.0</td>\n",
       "      <td>4.963567e-16</td>\n",
       "      <td>1.000001</td>\n",
       "      <td>-2.207523</td>\n",
       "      <td>-0.639191</td>\n",
       "      <td>0.062090</td>\n",
       "      <td>0.686812</td>\n",
       "      <td>2.324787</td>\n",
       "    </tr>\n",
       "    <tr>\n",
       "      <th>bank_branch_count_8w</th>\n",
       "      <td>1000000.0</td>\n",
       "      <td>1.094236e-18</td>\n",
       "      <td>1.000001</td>\n",
       "      <td>-0.401114</td>\n",
       "      <td>-0.398938</td>\n",
       "      <td>-0.381532</td>\n",
       "      <td>-0.346721</td>\n",
       "      <td>4.787898</td>\n",
       "    </tr>\n",
       "    <tr>\n",
       "      <th>date_of_birth_distinct_emails_4w</th>\n",
       "      <td>1000000.0</td>\n",
       "      <td>6.357936e-17</td>\n",
       "      <td>1.000001</td>\n",
       "      <td>-1.887950</td>\n",
       "      <td>-0.696005</td>\n",
       "      <td>-0.100033</td>\n",
       "      <td>0.694597</td>\n",
       "      <td>5.859692</td>\n",
       "    </tr>\n",
       "    <tr>\n",
       "      <th>credit_risk_score</th>\n",
       "      <td>1000000.0</td>\n",
       "      <td>-1.014939e-16</td>\n",
       "      <td>1.000001</td>\n",
       "      <td>-4.319488</td>\n",
       "      <td>-0.688696</td>\n",
       "      <td>-0.129009</td>\n",
       "      <td>0.674644</td>\n",
       "      <td>3.702696</td>\n",
       "    </tr>\n",
       "    <tr>\n",
       "      <th>email_is_free</th>\n",
       "      <td>1000000.0</td>\n",
       "      <td>2.377476e-17</td>\n",
       "      <td>1.000001</td>\n",
       "      <td>-1.061670</td>\n",
       "      <td>-1.061670</td>\n",
       "      <td>0.941912</td>\n",
       "      <td>0.941912</td>\n",
       "      <td>0.941912</td>\n",
       "    </tr>\n",
       "    <tr>\n",
       "      <th>phone_home_valid</th>\n",
       "      <td>1000000.0</td>\n",
       "      <td>5.965717e-17</td>\n",
       "      <td>1.000001</td>\n",
       "      <td>-0.845868</td>\n",
       "      <td>-0.845868</td>\n",
       "      <td>-0.845868</td>\n",
       "      <td>1.182218</td>\n",
       "      <td>1.182218</td>\n",
       "    </tr>\n",
       "    <tr>\n",
       "      <th>phone_mobile_valid</th>\n",
       "      <td>1000000.0</td>\n",
       "      <td>-1.380727e-16</td>\n",
       "      <td>1.000001</td>\n",
       "      <td>-2.839755</td>\n",
       "      <td>0.352143</td>\n",
       "      <td>0.352143</td>\n",
       "      <td>0.352143</td>\n",
       "      <td>0.352143</td>\n",
       "    </tr>\n",
       "    <tr>\n",
       "      <th>bank_months_count</th>\n",
       "      <td>1000000.0</td>\n",
       "      <td>3.790035e-17</td>\n",
       "      <td>1.000001</td>\n",
       "      <td>-0.977093</td>\n",
       "      <td>-0.977093</td>\n",
       "      <td>-0.481915</td>\n",
       "      <td>1.168676</td>\n",
       "      <td>1.746383</td>\n",
       "    </tr>\n",
       "    <tr>\n",
       "      <th>has_other_cards</th>\n",
       "      <td>1000000.0</td>\n",
       "      <td>7.055689e-17</td>\n",
       "      <td>1.000001</td>\n",
       "      <td>-0.535706</td>\n",
       "      <td>-0.535706</td>\n",
       "      <td>-0.535706</td>\n",
       "      <td>-0.535706</td>\n",
       "      <td>1.866694</td>\n",
       "    </tr>\n",
       "    <tr>\n",
       "      <th>proposed_credit_limit</th>\n",
       "      <td>1000000.0</td>\n",
       "      <td>3.744560e-17</td>\n",
       "      <td>1.000001</td>\n",
       "      <td>-0.668331</td>\n",
       "      <td>-0.647820</td>\n",
       "      <td>-0.647820</td>\n",
       "      <td>-0.032511</td>\n",
       "      <td>3.249139</td>\n",
       "    </tr>\n",
       "    <tr>\n",
       "      <th>foreign_request</th>\n",
       "      <td>1000000.0</td>\n",
       "      <td>1.040235e-17</td>\n",
       "      <td>1.000001</td>\n",
       "      <td>-0.160921</td>\n",
       "      <td>-0.160921</td>\n",
       "      <td>-0.160921</td>\n",
       "      <td>-0.160921</td>\n",
       "      <td>6.214219</td>\n",
       "    </tr>\n",
       "    <tr>\n",
       "      <th>session_length_in_minutes</th>\n",
       "      <td>1000000.0</td>\n",
       "      <td>8.571988e-17</td>\n",
       "      <td>1.000001</td>\n",
       "      <td>-1.063716</td>\n",
       "      <td>-0.552948</td>\n",
       "      <td>-0.302575</td>\n",
       "      <td>0.164468</td>\n",
       "      <td>9.753916</td>\n",
       "    </tr>\n",
       "    <tr>\n",
       "      <th>keep_alive_session</th>\n",
       "      <td>1000000.0</td>\n",
       "      <td>2.305711e-17</td>\n",
       "      <td>1.000001</td>\n",
       "      <td>-1.167806</td>\n",
       "      <td>-1.167806</td>\n",
       "      <td>0.856307</td>\n",
       "      <td>0.856307</td>\n",
       "      <td>0.856307</td>\n",
       "    </tr>\n",
       "    <tr>\n",
       "      <th>device_distinct_emails_8w</th>\n",
       "      <td>1000000.0</td>\n",
       "      <td>-5.813128e-16</td>\n",
       "      <td>1.000001</td>\n",
       "      <td>-11.165616</td>\n",
       "      <td>-0.101305</td>\n",
       "      <td>-0.101305</td>\n",
       "      <td>-0.101305</td>\n",
       "      <td>5.430851</td>\n",
       "    </tr>\n",
       "    <tr>\n",
       "      <th>device_fraud_count</th>\n",
       "      <td>1000000.0</td>\n",
       "      <td>0.000000e+00</td>\n",
       "      <td>0.000000</td>\n",
       "      <td>0.000000</td>\n",
       "      <td>0.000000</td>\n",
       "      <td>0.000000</td>\n",
       "      <td>0.000000</td>\n",
       "      <td>0.000000</td>\n",
       "    </tr>\n",
       "    <tr>\n",
       "      <th>month</th>\n",
       "      <td>1000000.0</td>\n",
       "      <td>3.251444e-17</td>\n",
       "      <td>1.000001</td>\n",
       "      <td>-1.488092</td>\n",
       "      <td>-1.035602</td>\n",
       "      <td>-0.130622</td>\n",
       "      <td>0.774358</td>\n",
       "      <td>1.679338</td>\n",
       "    </tr>\n",
       "  </tbody>\n",
       "</table>\n",
       "</div>"
      ],
      "text/plain": [
       "                                      count          mean       std  \\\n",
       "income                            1000000.0 -1.859206e-16  1.000001   \n",
       "name_email_similarity             1000000.0 -1.801208e-16  1.000001   \n",
       "prev_address_months_count         1000000.0 -5.044853e-18  1.000001   \n",
       "current_address_months_count      1000000.0 -5.121592e-17  1.000001   \n",
       "customer_age                      1000000.0  2.421885e-16  1.000001   \n",
       "days_since_request                1000000.0  6.065548e-17  1.000001   \n",
       "intended_balcon_amount            1000000.0 -1.108873e-16  1.000001   \n",
       "zip_count_4w                      1000000.0 -1.125500e-17  1.000001   \n",
       "velocity_6h                       1000000.0  3.327614e-16  1.000001   \n",
       "velocity_24h                      1000000.0 -1.518856e-16  1.000001   \n",
       "velocity_4w                       1000000.0  4.963567e-16  1.000001   \n",
       "bank_branch_count_8w              1000000.0  1.094236e-18  1.000001   \n",
       "date_of_birth_distinct_emails_4w  1000000.0  6.357936e-17  1.000001   \n",
       "credit_risk_score                 1000000.0 -1.014939e-16  1.000001   \n",
       "email_is_free                     1000000.0  2.377476e-17  1.000001   \n",
       "phone_home_valid                  1000000.0  5.965717e-17  1.000001   \n",
       "phone_mobile_valid                1000000.0 -1.380727e-16  1.000001   \n",
       "bank_months_count                 1000000.0  3.790035e-17  1.000001   \n",
       "has_other_cards                   1000000.0  7.055689e-17  1.000001   \n",
       "proposed_credit_limit             1000000.0  3.744560e-17  1.000001   \n",
       "foreign_request                   1000000.0  1.040235e-17  1.000001   \n",
       "session_length_in_minutes         1000000.0  8.571988e-17  1.000001   \n",
       "keep_alive_session                1000000.0  2.305711e-17  1.000001   \n",
       "device_distinct_emails_8w         1000000.0 -5.813128e-16  1.000001   \n",
       "device_fraud_count                1000000.0  0.000000e+00  0.000000   \n",
       "month                             1000000.0  3.251444e-17  1.000001   \n",
       "\n",
       "                                        min       25%       50%       75%  \\\n",
       "income                            -1.593620 -0.904778  0.128484  0.817326   \n",
       "name_email_similarity             -1.707543 -0.928588 -0.005332  0.905745   \n",
       "prev_address_months_count         -0.402272 -0.402272 -0.402272 -0.107128   \n",
       "current_address_months_count      -0.990740 -0.764512 -0.391236  0.491051   \n",
       "customer_age                      -1.969856 -1.138310 -0.306764  0.524782   \n",
       "days_since_request                -0.190587 -0.189250 -0.187767 -0.185694   \n",
       "intended_balcon_amount            -1.195487 -0.486406 -0.469062 -0.181721   \n",
       "zip_count_4w                      -1.563291 -0.675064 -0.308037  0.369323   \n",
       "velocity_6h                       -1.939237 -0.740661 -0.114817  0.669713   \n",
       "velocity_24h                      -2.345489 -0.795425 -0.013427  0.664403   \n",
       "velocity_4w                       -2.207523 -0.639191  0.062090  0.686812   \n",
       "bank_branch_count_8w              -0.401114 -0.398938 -0.381532 -0.346721   \n",
       "date_of_birth_distinct_emails_4w  -1.887950 -0.696005 -0.100033  0.694597   \n",
       "credit_risk_score                 -4.319488 -0.688696 -0.129009  0.674644   \n",
       "email_is_free                     -1.061670 -1.061670  0.941912  0.941912   \n",
       "phone_home_valid                  -0.845868 -0.845868 -0.845868  1.182218   \n",
       "phone_mobile_valid                -2.839755  0.352143  0.352143  0.352143   \n",
       "bank_months_count                 -0.977093 -0.977093 -0.481915  1.168676   \n",
       "has_other_cards                   -0.535706 -0.535706 -0.535706 -0.535706   \n",
       "proposed_credit_limit             -0.668331 -0.647820 -0.647820 -0.032511   \n",
       "foreign_request                   -0.160921 -0.160921 -0.160921 -0.160921   \n",
       "session_length_in_minutes         -1.063716 -0.552948 -0.302575  0.164468   \n",
       "keep_alive_session                -1.167806 -1.167806  0.856307  0.856307   \n",
       "device_distinct_emails_8w        -11.165616 -0.101305 -0.101305 -0.101305   \n",
       "device_fraud_count                 0.000000  0.000000  0.000000  0.000000   \n",
       "month                             -1.488092 -1.035602 -0.130622  0.774358   \n",
       "\n",
       "                                        max  \n",
       "income                             1.161747  \n",
       "name_email_similarity              1.751166  \n",
       "prev_address_months_count          8.315845  \n",
       "current_address_months_count       3.861842  \n",
       "customer_age                       4.682512  \n",
       "days_since_request                14.387517  \n",
       "intended_balcon_amount             5.153918  \n",
       "zip_count_4w                       5.099901  \n",
       "velocity_6h                        3.671943  \n",
       "velocity_24h                       3.202458  \n",
       "velocity_4w                        2.324787  \n",
       "bank_branch_count_8w               4.787898  \n",
       "date_of_birth_distinct_emails_4w   5.859692  \n",
       "credit_risk_score                  3.702696  \n",
       "email_is_free                      0.941912  \n",
       "phone_home_valid                   1.182218  \n",
       "phone_mobile_valid                 0.352143  \n",
       "bank_months_count                  1.746383  \n",
       "has_other_cards                    1.866694  \n",
       "proposed_credit_limit              3.249139  \n",
       "foreign_request                    6.214219  \n",
       "session_length_in_minutes          9.753916  \n",
       "keep_alive_session                 0.856307  \n",
       "device_distinct_emails_8w          5.430851  \n",
       "device_fraud_count                 0.000000  \n",
       "month                              1.679338  "
      ]
     },
     "execution_count": 10,
     "metadata": {},
     "output_type": "execute_result"
    }
   ],
   "source": [
    "X_scaled.describe().T"
   ]
  },
  {
   "cell_type": "markdown",
   "metadata": {},
   "source": [
    "2.3. Separation of Training and Test Sets"
   ]
  },
  {
   "cell_type": "code",
   "execution_count": 11,
   "metadata": {},
   "outputs": [
    {
     "name": "stdout",
     "output_type": "stream",
     "text": [
      "Training data shape: (600000, 52)\n",
      "Training ground truth values shape: (600000,)\n",
      "Test data shape: (400000, 52)\n",
      "Test ground truth values shape: (400000,)\n"
     ]
    }
   ],
   "source": [
    "X_train, X_test, y_train, y_test = train_test_split(X_scaled,y,test_size=0.4,random_state=42,stratify=y)\n",
    "\n",
    "print('Training data shape:',X_train.shape)\n",
    "print('Training ground truth values shape:',y_train.shape) \n",
    "\n",
    "print('Test data shape:',X_test.shape)\n",
    "print('Test ground truth values shape:',y_test.shape)"
   ]
  },
  {
   "cell_type": "markdown",
   "metadata": {},
   "source": [
    "2.2. Oversampling using SMOTE"
   ]
  },
  {
   "cell_type": "code",
   "execution_count": 12,
   "metadata": {},
   "outputs": [
    {
     "name": "stdout",
     "output_type": "stream",
     "text": [
      "Instances after oversampling in X (1186766, 52)\n",
      "Instances after oversampling in y (1186766,)\n"
     ]
    }
   ],
   "source": [
    "smote = SMOTE(sampling_strategy='auto', random_state=42)\n",
    "X_train, y_train = smote.fit_resample(X_train, y_train)\n",
    "print(\"Instances after oversampling in X\", X_train.shape) \n",
    "print(\"Instances after oversampling in y\", y_train.shape) "
   ]
  },
  {
   "cell_type": "code",
   "execution_count": 13,
   "metadata": {},
   "outputs": [
    {
     "data": {
      "application/vnd.plotly.v1+json": {
       "config": {
        "plotlyServerURL": "https://plot.ly"
       },
       "data": [
        {
         "hole": 0.3,
         "hoverinfo": "label+percent",
         "labels": [
          "Non-Fraud",
          "Fraud"
         ],
         "marker": {
          "colors": [
           "#004B87",
           "LightBlue"
          ],
          "line": {
           "color": "black",
           "width": 0.1
          }
         },
         "textfont": {
          "size": 20
         },
         "textinfo": "percent",
         "type": "pie",
         "values": [
          0.5,
          0.5
         ]
        }
       ],
       "layout": {
        "font": {
         "color": "black"
        },
        "legend": {
         "title": {
          "font": {
           "color": "black"
          }
         }
        },
        "paper_bgcolor": "white",
        "plot_bgcolor": "white",
        "template": {
         "data": {
          "bar": [
           {
            "error_x": {
             "color": "#2a3f5f"
            },
            "error_y": {
             "color": "#2a3f5f"
            },
            "marker": {
             "line": {
              "color": "#E5ECF6",
              "width": 0.5
             },
             "pattern": {
              "fillmode": "overlay",
              "size": 10,
              "solidity": 0.2
             }
            },
            "type": "bar"
           }
          ],
          "barpolar": [
           {
            "marker": {
             "line": {
              "color": "#E5ECF6",
              "width": 0.5
             },
             "pattern": {
              "fillmode": "overlay",
              "size": 10,
              "solidity": 0.2
             }
            },
            "type": "barpolar"
           }
          ],
          "carpet": [
           {
            "aaxis": {
             "endlinecolor": "#2a3f5f",
             "gridcolor": "white",
             "linecolor": "white",
             "minorgridcolor": "white",
             "startlinecolor": "#2a3f5f"
            },
            "baxis": {
             "endlinecolor": "#2a3f5f",
             "gridcolor": "white",
             "linecolor": "white",
             "minorgridcolor": "white",
             "startlinecolor": "#2a3f5f"
            },
            "type": "carpet"
           }
          ],
          "choropleth": [
           {
            "colorbar": {
             "outlinewidth": 0,
             "ticks": ""
            },
            "type": "choropleth"
           }
          ],
          "contour": [
           {
            "colorbar": {
             "outlinewidth": 0,
             "ticks": ""
            },
            "colorscale": [
             [
              0,
              "#0d0887"
             ],
             [
              0.1111111111111111,
              "#46039f"
             ],
             [
              0.2222222222222222,
              "#7201a8"
             ],
             [
              0.3333333333333333,
              "#9c179e"
             ],
             [
              0.4444444444444444,
              "#bd3786"
             ],
             [
              0.5555555555555556,
              "#d8576b"
             ],
             [
              0.6666666666666666,
              "#ed7953"
             ],
             [
              0.7777777777777778,
              "#fb9f3a"
             ],
             [
              0.8888888888888888,
              "#fdca26"
             ],
             [
              1,
              "#f0f921"
             ]
            ],
            "type": "contour"
           }
          ],
          "contourcarpet": [
           {
            "colorbar": {
             "outlinewidth": 0,
             "ticks": ""
            },
            "type": "contourcarpet"
           }
          ],
          "heatmap": [
           {
            "colorbar": {
             "outlinewidth": 0,
             "ticks": ""
            },
            "colorscale": [
             [
              0,
              "#0d0887"
             ],
             [
              0.1111111111111111,
              "#46039f"
             ],
             [
              0.2222222222222222,
              "#7201a8"
             ],
             [
              0.3333333333333333,
              "#9c179e"
             ],
             [
              0.4444444444444444,
              "#bd3786"
             ],
             [
              0.5555555555555556,
              "#d8576b"
             ],
             [
              0.6666666666666666,
              "#ed7953"
             ],
             [
              0.7777777777777778,
              "#fb9f3a"
             ],
             [
              0.8888888888888888,
              "#fdca26"
             ],
             [
              1,
              "#f0f921"
             ]
            ],
            "type": "heatmap"
           }
          ],
          "heatmapgl": [
           {
            "colorbar": {
             "outlinewidth": 0,
             "ticks": ""
            },
            "colorscale": [
             [
              0,
              "#0d0887"
             ],
             [
              0.1111111111111111,
              "#46039f"
             ],
             [
              0.2222222222222222,
              "#7201a8"
             ],
             [
              0.3333333333333333,
              "#9c179e"
             ],
             [
              0.4444444444444444,
              "#bd3786"
             ],
             [
              0.5555555555555556,
              "#d8576b"
             ],
             [
              0.6666666666666666,
              "#ed7953"
             ],
             [
              0.7777777777777778,
              "#fb9f3a"
             ],
             [
              0.8888888888888888,
              "#fdca26"
             ],
             [
              1,
              "#f0f921"
             ]
            ],
            "type": "heatmapgl"
           }
          ],
          "histogram": [
           {
            "marker": {
             "pattern": {
              "fillmode": "overlay",
              "size": 10,
              "solidity": 0.2
             }
            },
            "type": "histogram"
           }
          ],
          "histogram2d": [
           {
            "colorbar": {
             "outlinewidth": 0,
             "ticks": ""
            },
            "colorscale": [
             [
              0,
              "#0d0887"
             ],
             [
              0.1111111111111111,
              "#46039f"
             ],
             [
              0.2222222222222222,
              "#7201a8"
             ],
             [
              0.3333333333333333,
              "#9c179e"
             ],
             [
              0.4444444444444444,
              "#bd3786"
             ],
             [
              0.5555555555555556,
              "#d8576b"
             ],
             [
              0.6666666666666666,
              "#ed7953"
             ],
             [
              0.7777777777777778,
              "#fb9f3a"
             ],
             [
              0.8888888888888888,
              "#fdca26"
             ],
             [
              1,
              "#f0f921"
             ]
            ],
            "type": "histogram2d"
           }
          ],
          "histogram2dcontour": [
           {
            "colorbar": {
             "outlinewidth": 0,
             "ticks": ""
            },
            "colorscale": [
             [
              0,
              "#0d0887"
             ],
             [
              0.1111111111111111,
              "#46039f"
             ],
             [
              0.2222222222222222,
              "#7201a8"
             ],
             [
              0.3333333333333333,
              "#9c179e"
             ],
             [
              0.4444444444444444,
              "#bd3786"
             ],
             [
              0.5555555555555556,
              "#d8576b"
             ],
             [
              0.6666666666666666,
              "#ed7953"
             ],
             [
              0.7777777777777778,
              "#fb9f3a"
             ],
             [
              0.8888888888888888,
              "#fdca26"
             ],
             [
              1,
              "#f0f921"
             ]
            ],
            "type": "histogram2dcontour"
           }
          ],
          "mesh3d": [
           {
            "colorbar": {
             "outlinewidth": 0,
             "ticks": ""
            },
            "type": "mesh3d"
           }
          ],
          "parcoords": [
           {
            "line": {
             "colorbar": {
              "outlinewidth": 0,
              "ticks": ""
             }
            },
            "type": "parcoords"
           }
          ],
          "pie": [
           {
            "automargin": true,
            "type": "pie"
           }
          ],
          "scatter": [
           {
            "fillpattern": {
             "fillmode": "overlay",
             "size": 10,
             "solidity": 0.2
            },
            "type": "scatter"
           }
          ],
          "scatter3d": [
           {
            "line": {
             "colorbar": {
              "outlinewidth": 0,
              "ticks": ""
             }
            },
            "marker": {
             "colorbar": {
              "outlinewidth": 0,
              "ticks": ""
             }
            },
            "type": "scatter3d"
           }
          ],
          "scattercarpet": [
           {
            "marker": {
             "colorbar": {
              "outlinewidth": 0,
              "ticks": ""
             }
            },
            "type": "scattercarpet"
           }
          ],
          "scattergeo": [
           {
            "marker": {
             "colorbar": {
              "outlinewidth": 0,
              "ticks": ""
             }
            },
            "type": "scattergeo"
           }
          ],
          "scattergl": [
           {
            "marker": {
             "colorbar": {
              "outlinewidth": 0,
              "ticks": ""
             }
            },
            "type": "scattergl"
           }
          ],
          "scattermapbox": [
           {
            "marker": {
             "colorbar": {
              "outlinewidth": 0,
              "ticks": ""
             }
            },
            "type": "scattermapbox"
           }
          ],
          "scatterpolar": [
           {
            "marker": {
             "colorbar": {
              "outlinewidth": 0,
              "ticks": ""
             }
            },
            "type": "scatterpolar"
           }
          ],
          "scatterpolargl": [
           {
            "marker": {
             "colorbar": {
              "outlinewidth": 0,
              "ticks": ""
             }
            },
            "type": "scatterpolargl"
           }
          ],
          "scatterternary": [
           {
            "marker": {
             "colorbar": {
              "outlinewidth": 0,
              "ticks": ""
             }
            },
            "type": "scatterternary"
           }
          ],
          "surface": [
           {
            "colorbar": {
             "outlinewidth": 0,
             "ticks": ""
            },
            "colorscale": [
             [
              0,
              "#0d0887"
             ],
             [
              0.1111111111111111,
              "#46039f"
             ],
             [
              0.2222222222222222,
              "#7201a8"
             ],
             [
              0.3333333333333333,
              "#9c179e"
             ],
             [
              0.4444444444444444,
              "#bd3786"
             ],
             [
              0.5555555555555556,
              "#d8576b"
             ],
             [
              0.6666666666666666,
              "#ed7953"
             ],
             [
              0.7777777777777778,
              "#fb9f3a"
             ],
             [
              0.8888888888888888,
              "#fdca26"
             ],
             [
              1,
              "#f0f921"
             ]
            ],
            "type": "surface"
           }
          ],
          "table": [
           {
            "cells": {
             "fill": {
              "color": "#EBF0F8"
             },
             "line": {
              "color": "white"
             }
            },
            "header": {
             "fill": {
              "color": "#C8D4E3"
             },
             "line": {
              "color": "white"
             }
            },
            "type": "table"
           }
          ]
         },
         "layout": {
          "annotationdefaults": {
           "arrowcolor": "#2a3f5f",
           "arrowhead": 0,
           "arrowwidth": 1
          },
          "autotypenumbers": "strict",
          "coloraxis": {
           "colorbar": {
            "outlinewidth": 0,
            "ticks": ""
           }
          },
          "colorscale": {
           "diverging": [
            [
             0,
             "#8e0152"
            ],
            [
             0.1,
             "#c51b7d"
            ],
            [
             0.2,
             "#de77ae"
            ],
            [
             0.3,
             "#f1b6da"
            ],
            [
             0.4,
             "#fde0ef"
            ],
            [
             0.5,
             "#f7f7f7"
            ],
            [
             0.6,
             "#e6f5d0"
            ],
            [
             0.7,
             "#b8e186"
            ],
            [
             0.8,
             "#7fbc41"
            ],
            [
             0.9,
             "#4d9221"
            ],
            [
             1,
             "#276419"
            ]
           ],
           "sequential": [
            [
             0,
             "#0d0887"
            ],
            [
             0.1111111111111111,
             "#46039f"
            ],
            [
             0.2222222222222222,
             "#7201a8"
            ],
            [
             0.3333333333333333,
             "#9c179e"
            ],
            [
             0.4444444444444444,
             "#bd3786"
            ],
            [
             0.5555555555555556,
             "#d8576b"
            ],
            [
             0.6666666666666666,
             "#ed7953"
            ],
            [
             0.7777777777777778,
             "#fb9f3a"
            ],
            [
             0.8888888888888888,
             "#fdca26"
            ],
            [
             1,
             "#f0f921"
            ]
           ],
           "sequentialminus": [
            [
             0,
             "#0d0887"
            ],
            [
             0.1111111111111111,
             "#46039f"
            ],
            [
             0.2222222222222222,
             "#7201a8"
            ],
            [
             0.3333333333333333,
             "#9c179e"
            ],
            [
             0.4444444444444444,
             "#bd3786"
            ],
            [
             0.5555555555555556,
             "#d8576b"
            ],
            [
             0.6666666666666666,
             "#ed7953"
            ],
            [
             0.7777777777777778,
             "#fb9f3a"
            ],
            [
             0.8888888888888888,
             "#fdca26"
            ],
            [
             1,
             "#f0f921"
            ]
           ]
          },
          "colorway": [
           "#636efa",
           "#EF553B",
           "#00cc96",
           "#ab63fa",
           "#FFA15A",
           "#19d3f3",
           "#FF6692",
           "#B6E880",
           "#FF97FF",
           "#FECB52"
          ],
          "font": {
           "color": "#2a3f5f"
          },
          "geo": {
           "bgcolor": "white",
           "lakecolor": "white",
           "landcolor": "#E5ECF6",
           "showlakes": true,
           "showland": true,
           "subunitcolor": "white"
          },
          "hoverlabel": {
           "align": "left"
          },
          "hovermode": "closest",
          "mapbox": {
           "style": "light"
          },
          "paper_bgcolor": "white",
          "plot_bgcolor": "#E5ECF6",
          "polar": {
           "angularaxis": {
            "gridcolor": "white",
            "linecolor": "white",
            "ticks": ""
           },
           "bgcolor": "#E5ECF6",
           "radialaxis": {
            "gridcolor": "white",
            "linecolor": "white",
            "ticks": ""
           }
          },
          "scene": {
           "xaxis": {
            "backgroundcolor": "#E5ECF6",
            "gridcolor": "white",
            "gridwidth": 2,
            "linecolor": "white",
            "showbackground": true,
            "ticks": "",
            "zerolinecolor": "white"
           },
           "yaxis": {
            "backgroundcolor": "#E5ECF6",
            "gridcolor": "white",
            "gridwidth": 2,
            "linecolor": "white",
            "showbackground": true,
            "ticks": "",
            "zerolinecolor": "white"
           },
           "zaxis": {
            "backgroundcolor": "#E5ECF6",
            "gridcolor": "white",
            "gridwidth": 2,
            "linecolor": "white",
            "showbackground": true,
            "ticks": "",
            "zerolinecolor": "white"
           }
          },
          "shapedefaults": {
           "line": {
            "color": "#2a3f5f"
           }
          },
          "ternary": {
           "aaxis": {
            "gridcolor": "white",
            "linecolor": "white",
            "ticks": ""
           },
           "baxis": {
            "gridcolor": "white",
            "linecolor": "white",
            "ticks": ""
           },
           "bgcolor": "#E5ECF6",
           "caxis": {
            "gridcolor": "white",
            "linecolor": "white",
            "ticks": ""
           }
          },
          "title": {
           "x": 0.05
          },
          "xaxis": {
           "automargin": true,
           "gridcolor": "white",
           "linecolor": "white",
           "ticks": "",
           "title": {
            "standoff": 15
           },
           "zerolinecolor": "white",
           "zerolinewidth": 2
          },
          "yaxis": {
           "automargin": true,
           "gridcolor": "white",
           "linecolor": "white",
           "ticks": "",
           "title": {
            "standoff": 15
           },
           "zerolinecolor": "white",
           "zerolinewidth": 2
          }
         }
        },
        "title": {
         "font": {
          "color": "black",
          "size": 24
         },
         "text": "<b>Credit Card Fraud</b>"
        }
       }
      }
     },
     "metadata": {},
     "output_type": "display_data"
    }
   ],
   "source": [
    "#Visualizing Class Distribution after SMOTE\n",
    "colors = ['#004B87', 'LightBlue'] \n",
    "labels = ['Non-Fraud', 'Fraud']\n",
    "values = y_train.value_counts() / y_train.shape[0]\n",
    "total_normal = y_train[y_train == False].shape[0]\n",
    "total_fraudulent = y_train[y_train == True].shape[0]\n",
    "\n",
    "fig = go.Figure(data=[go.Pie(labels=labels, values=values, hole=.3)])\n",
    "fig.update_traces(hoverinfo='label+percent', textinfo='percent', textfont_size=20,\n",
    "                  marker=dict(colors=colors, line=dict(color='black', width=0.1)))\n",
    "\n",
    "fig.update_layout(\n",
    "    title_text='<b>Credit Card Fraud</b>',\n",
    "    title_font_color='black',\n",
    "    title_font=dict(size=24),\n",
    "    legend_title_font_color='black',\n",
    "    paper_bgcolor='white',   \n",
    "    plot_bgcolor='white',    \n",
    "    font_color='black',\n",
    ")\n",
    "\n",
    "fig.show() "
   ]
  },
  {
   "cell_type": "code",
   "execution_count": 14,
   "metadata": {},
   "outputs": [
    {
     "data": {
      "text/html": [
       "<div>\n",
       "<style scoped>\n",
       "    .dataframe tbody tr th:only-of-type {\n",
       "        vertical-align: middle;\n",
       "    }\n",
       "\n",
       "    .dataframe tbody tr th {\n",
       "        vertical-align: top;\n",
       "    }\n",
       "\n",
       "    .dataframe thead th {\n",
       "        text-align: right;\n",
       "    }\n",
       "</style>\n",
       "<table border=\"1\" class=\"dataframe\">\n",
       "  <thead>\n",
       "    <tr style=\"text-align: right;\">\n",
       "      <th></th>\n",
       "      <th>0</th>\n",
       "      <th>1</th>\n",
       "      <th>2</th>\n",
       "      <th>3</th>\n",
       "      <th>4</th>\n",
       "    </tr>\n",
       "  </thead>\n",
       "  <tbody>\n",
       "    <tr>\n",
       "      <th>income</th>\n",
       "      <td>1.161747</td>\n",
       "      <td>1.161747</td>\n",
       "      <td>-1.249199</td>\n",
       "      <td>1.161747</td>\n",
       "      <td>-0.215937</td>\n",
       "    </tr>\n",
       "    <tr>\n",
       "      <th>name_email_similarity</th>\n",
       "      <td>-1.225912</td>\n",
       "      <td>1.318032</td>\n",
       "      <td>1.366641</td>\n",
       "      <td>-0.080545</td>\n",
       "      <td>-0.271346</td>\n",
       "    </tr>\n",
       "    <tr>\n",
       "      <th>prev_address_months_count</th>\n",
       "      <td>0.14261</td>\n",
       "      <td>-0.402272</td>\n",
       "      <td>-0.402272</td>\n",
       "      <td>3.275683</td>\n",
       "      <td>-0.402272</td>\n",
       "    </tr>\n",
       "    <tr>\n",
       "      <th>current_address_months_count</th>\n",
       "      <td>-0.945494</td>\n",
       "      <td>1.316782</td>\n",
       "      <td>2.391363</td>\n",
       "      <td>-0.91156</td>\n",
       "      <td>-0.606153</td>\n",
       "    </tr>\n",
       "    <tr>\n",
       "      <th>customer_age</th>\n",
       "      <td>1.356328</td>\n",
       "      <td>1.356328</td>\n",
       "      <td>0.524782</td>\n",
       "      <td>-0.306764</td>\n",
       "      <td>-0.306764</td>\n",
       "    </tr>\n",
       "    <tr>\n",
       "      <th>days_since_request</th>\n",
       "      <td>-0.185208</td>\n",
       "      <td>-0.187076</td>\n",
       "      <td>-0.184843</td>\n",
       "      <td>-0.183084</td>\n",
       "      <td>-0.18243</td>\n",
       "    </tr>\n",
       "    <tr>\n",
       "      <th>intended_balcon_amount</th>\n",
       "      <td>-0.496142</td>\n",
       "      <td>-0.470048</td>\n",
       "      <td>-0.468566</td>\n",
       "      <td>-0.507183</td>\n",
       "      <td>-0.497892</td>\n",
       "    </tr>\n",
       "    <tr>\n",
       "      <th>zip_count_4w</th>\n",
       "      <td>3.614881</td>\n",
       "      <td>-0.763588</td>\n",
       "      <td>-0.447288</td>\n",
       "      <td>-1.042092</td>\n",
       "      <td>0.178349</td>\n",
       "    </tr>\n",
       "    <tr>\n",
       "      <th>velocity_6h</th>\n",
       "      <td>0.489372</td>\n",
       "      <td>0.200068</td>\n",
       "      <td>0.240466</td>\n",
       "      <td>-0.677334</td>\n",
       "      <td>-0.433352</td>\n",
       "    </tr>\n",
       "    <tr>\n",
       "      <th>velocity_24h</th>\n",
       "      <td>0.211322</td>\n",
       "      <td>0.09721</td>\n",
       "      <td>-1.090176</td>\n",
       "      <td>-0.194776</td>\n",
       "      <td>-0.929589</td>\n",
       "    </tr>\n",
       "    <tr>\n",
       "      <th>velocity_4w</th>\n",
       "      <td>1.767734</td>\n",
       "      <td>-0.15614</td>\n",
       "      <td>0.262354</td>\n",
       "      <td>-0.508927</td>\n",
       "      <td>-0.054116</td>\n",
       "    </tr>\n",
       "    <tr>\n",
       "      <th>bank_branch_count_8w</th>\n",
       "      <td>-0.385884</td>\n",
       "      <td>-0.388059</td>\n",
       "      <td>-0.398938</td>\n",
       "      <td>-0.398938</td>\n",
       "      <td>-0.398938</td>\n",
       "    </tr>\n",
       "    <tr>\n",
       "      <th>date_of_birth_distinct_emails_4w</th>\n",
       "      <td>2.87983</td>\n",
       "      <td>-0.497348</td>\n",
       "      <td>-1.689293</td>\n",
       "      <td>-0.696005</td>\n",
       "      <td>1.886542</td>\n",
       "    </tr>\n",
       "    <tr>\n",
       "      <th>credit_risk_score</th>\n",
       "      <td>0.91861</td>\n",
       "      <td>1.535701</td>\n",
       "      <td>2.009283</td>\n",
       "      <td>-0.258168</td>\n",
       "      <td>-0.631293</td>\n",
       "    </tr>\n",
       "    <tr>\n",
       "      <th>email_is_free</th>\n",
       "      <td>0.941912</td>\n",
       "      <td>0.941912</td>\n",
       "      <td>0.941912</td>\n",
       "      <td>-1.06167</td>\n",
       "      <td>0.941912</td>\n",
       "    </tr>\n",
       "    <tr>\n",
       "      <th>phone_home_valid</th>\n",
       "      <td>-0.845868</td>\n",
       "      <td>1.182218</td>\n",
       "      <td>1.182218</td>\n",
       "      <td>-0.845868</td>\n",
       "      <td>-0.845868</td>\n",
       "    </tr>\n",
       "    <tr>\n",
       "      <th>phone_mobile_valid</th>\n",
       "      <td>0.352143</td>\n",
       "      <td>0.352143</td>\n",
       "      <td>-2.839755</td>\n",
       "      <td>0.352143</td>\n",
       "      <td>0.352143</td>\n",
       "    </tr>\n",
       "    <tr>\n",
       "      <th>bank_months_count</th>\n",
       "      <td>1.663854</td>\n",
       "      <td>-0.729504</td>\n",
       "      <td>-0.977093</td>\n",
       "      <td>-0.977093</td>\n",
       "      <td>-0.977093</td>\n",
       "    </tr>\n",
       "    <tr>\n",
       "      <th>has_other_cards</th>\n",
       "      <td>-0.535706</td>\n",
       "      <td>-0.535706</td>\n",
       "      <td>-0.535706</td>\n",
       "      <td>1.866694</td>\n",
       "      <td>1.866694</td>\n",
       "    </tr>\n",
       "    <tr>\n",
       "      <th>proposed_credit_limit</th>\n",
       "      <td>2.01852</td>\n",
       "      <td>-0.032511</td>\n",
       "      <td>2.01852</td>\n",
       "      <td>-0.64782</td>\n",
       "      <td>-0.64782</td>\n",
       "    </tr>\n",
       "    <tr>\n",
       "      <th>foreign_request</th>\n",
       "      <td>-0.160921</td>\n",
       "      <td>-0.160921</td>\n",
       "      <td>-0.160921</td>\n",
       "      <td>-0.160921</td>\n",
       "      <td>-0.160921</td>\n",
       "    </tr>\n",
       "    <tr>\n",
       "      <th>session_length_in_minutes</th>\n",
       "      <td>0.880434</td>\n",
       "      <td>0.061046</td>\n",
       "      <td>0.378774</td>\n",
       "      <td>-0.27738</td>\n",
       "      <td>-0.329375</td>\n",
       "    </tr>\n",
       "    <tr>\n",
       "      <th>keep_alive_session</th>\n",
       "      <td>0.856307</td>\n",
       "      <td>0.856307</td>\n",
       "      <td>0.856307</td>\n",
       "      <td>0.856307</td>\n",
       "      <td>0.856307</td>\n",
       "    </tr>\n",
       "    <tr>\n",
       "      <th>device_distinct_emails_8w</th>\n",
       "      <td>-0.101305</td>\n",
       "      <td>-0.101305</td>\n",
       "      <td>-0.101305</td>\n",
       "      <td>-0.101305</td>\n",
       "      <td>-0.101305</td>\n",
       "    </tr>\n",
       "    <tr>\n",
       "      <th>device_fraud_count</th>\n",
       "      <td>0.0</td>\n",
       "      <td>0.0</td>\n",
       "      <td>0.0</td>\n",
       "      <td>0.0</td>\n",
       "      <td>0.0</td>\n",
       "    </tr>\n",
       "    <tr>\n",
       "      <th>month</th>\n",
       "      <td>-1.488092</td>\n",
       "      <td>-0.130622</td>\n",
       "      <td>-0.130622</td>\n",
       "      <td>-0.583112</td>\n",
       "      <td>0.321868</td>\n",
       "    </tr>\n",
       "    <tr>\n",
       "      <th>payment_type_AA</th>\n",
       "      <td>False</td>\n",
       "      <td>False</td>\n",
       "      <td>False</td>\n",
       "      <td>False</td>\n",
       "      <td>False</td>\n",
       "    </tr>\n",
       "    <tr>\n",
       "      <th>payment_type_AB</th>\n",
       "      <td>True</td>\n",
       "      <td>True</td>\n",
       "      <td>False</td>\n",
       "      <td>False</td>\n",
       "      <td>False</td>\n",
       "    </tr>\n",
       "    <tr>\n",
       "      <th>payment_type_AC</th>\n",
       "      <td>False</td>\n",
       "      <td>False</td>\n",
       "      <td>True</td>\n",
       "      <td>True</td>\n",
       "      <td>True</td>\n",
       "    </tr>\n",
       "    <tr>\n",
       "      <th>payment_type_AD</th>\n",
       "      <td>False</td>\n",
       "      <td>False</td>\n",
       "      <td>False</td>\n",
       "      <td>False</td>\n",
       "      <td>False</td>\n",
       "    </tr>\n",
       "    <tr>\n",
       "      <th>payment_type_AE</th>\n",
       "      <td>False</td>\n",
       "      <td>False</td>\n",
       "      <td>False</td>\n",
       "      <td>False</td>\n",
       "      <td>False</td>\n",
       "    </tr>\n",
       "    <tr>\n",
       "      <th>employment_status_CA</th>\n",
       "      <td>True</td>\n",
       "      <td>True</td>\n",
       "      <td>False</td>\n",
       "      <td>True</td>\n",
       "      <td>False</td>\n",
       "    </tr>\n",
       "    <tr>\n",
       "      <th>employment_status_CB</th>\n",
       "      <td>False</td>\n",
       "      <td>False</td>\n",
       "      <td>False</td>\n",
       "      <td>False</td>\n",
       "      <td>False</td>\n",
       "    </tr>\n",
       "    <tr>\n",
       "      <th>employment_status_CC</th>\n",
       "      <td>False</td>\n",
       "      <td>False</td>\n",
       "      <td>True</td>\n",
       "      <td>False</td>\n",
       "      <td>False</td>\n",
       "    </tr>\n",
       "    <tr>\n",
       "      <th>employment_status_CD</th>\n",
       "      <td>False</td>\n",
       "      <td>False</td>\n",
       "      <td>False</td>\n",
       "      <td>False</td>\n",
       "      <td>True</td>\n",
       "    </tr>\n",
       "    <tr>\n",
       "      <th>employment_status_CE</th>\n",
       "      <td>False</td>\n",
       "      <td>False</td>\n",
       "      <td>False</td>\n",
       "      <td>False</td>\n",
       "      <td>False</td>\n",
       "    </tr>\n",
       "    <tr>\n",
       "      <th>employment_status_CF</th>\n",
       "      <td>False</td>\n",
       "      <td>False</td>\n",
       "      <td>False</td>\n",
       "      <td>False</td>\n",
       "      <td>False</td>\n",
       "    </tr>\n",
       "    <tr>\n",
       "      <th>employment_status_CG</th>\n",
       "      <td>False</td>\n",
       "      <td>False</td>\n",
       "      <td>False</td>\n",
       "      <td>False</td>\n",
       "      <td>False</td>\n",
       "    </tr>\n",
       "    <tr>\n",
       "      <th>housing_status_BA</th>\n",
       "      <td>False</td>\n",
       "      <td>True</td>\n",
       "      <td>False</td>\n",
       "      <td>False</td>\n",
       "      <td>False</td>\n",
       "    </tr>\n",
       "    <tr>\n",
       "      <th>housing_status_BB</th>\n",
       "      <td>False</td>\n",
       "      <td>False</td>\n",
       "      <td>True</td>\n",
       "      <td>False</td>\n",
       "      <td>False</td>\n",
       "    </tr>\n",
       "    <tr>\n",
       "      <th>housing_status_BC</th>\n",
       "      <td>False</td>\n",
       "      <td>False</td>\n",
       "      <td>False</td>\n",
       "      <td>True</td>\n",
       "      <td>True</td>\n",
       "    </tr>\n",
       "    <tr>\n",
       "      <th>housing_status_BD</th>\n",
       "      <td>False</td>\n",
       "      <td>False</td>\n",
       "      <td>False</td>\n",
       "      <td>False</td>\n",
       "      <td>False</td>\n",
       "    </tr>\n",
       "    <tr>\n",
       "      <th>housing_status_BE</th>\n",
       "      <td>True</td>\n",
       "      <td>False</td>\n",
       "      <td>False</td>\n",
       "      <td>False</td>\n",
       "      <td>False</td>\n",
       "    </tr>\n",
       "    <tr>\n",
       "      <th>housing_status_BF</th>\n",
       "      <td>False</td>\n",
       "      <td>False</td>\n",
       "      <td>False</td>\n",
       "      <td>False</td>\n",
       "      <td>False</td>\n",
       "    </tr>\n",
       "    <tr>\n",
       "      <th>housing_status_BG</th>\n",
       "      <td>False</td>\n",
       "      <td>False</td>\n",
       "      <td>False</td>\n",
       "      <td>False</td>\n",
       "      <td>False</td>\n",
       "    </tr>\n",
       "    <tr>\n",
       "      <th>source_INTERNET</th>\n",
       "      <td>True</td>\n",
       "      <td>True</td>\n",
       "      <td>True</td>\n",
       "      <td>True</td>\n",
       "      <td>True</td>\n",
       "    </tr>\n",
       "    <tr>\n",
       "      <th>source_TELEAPP</th>\n",
       "      <td>False</td>\n",
       "      <td>False</td>\n",
       "      <td>False</td>\n",
       "      <td>False</td>\n",
       "      <td>False</td>\n",
       "    </tr>\n",
       "    <tr>\n",
       "      <th>device_os_linux</th>\n",
       "      <td>False</td>\n",
       "      <td>False</td>\n",
       "      <td>False</td>\n",
       "      <td>False</td>\n",
       "      <td>True</td>\n",
       "    </tr>\n",
       "    <tr>\n",
       "      <th>device_os_macintosh</th>\n",
       "      <td>True</td>\n",
       "      <td>False</td>\n",
       "      <td>False</td>\n",
       "      <td>False</td>\n",
       "      <td>False</td>\n",
       "    </tr>\n",
       "    <tr>\n",
       "      <th>device_os_other</th>\n",
       "      <td>False</td>\n",
       "      <td>False</td>\n",
       "      <td>False</td>\n",
       "      <td>False</td>\n",
       "      <td>False</td>\n",
       "    </tr>\n",
       "    <tr>\n",
       "      <th>device_os_windows</th>\n",
       "      <td>False</td>\n",
       "      <td>True</td>\n",
       "      <td>True</td>\n",
       "      <td>True</td>\n",
       "      <td>False</td>\n",
       "    </tr>\n",
       "    <tr>\n",
       "      <th>device_os_x11</th>\n",
       "      <td>False</td>\n",
       "      <td>False</td>\n",
       "      <td>False</td>\n",
       "      <td>False</td>\n",
       "      <td>False</td>\n",
       "    </tr>\n",
       "  </tbody>\n",
       "</table>\n",
       "</div>"
      ],
      "text/plain": [
       "                                         0         1         2         3  \\\n",
       "income                            1.161747  1.161747 -1.249199  1.161747   \n",
       "name_email_similarity            -1.225912  1.318032  1.366641 -0.080545   \n",
       "prev_address_months_count          0.14261 -0.402272 -0.402272  3.275683   \n",
       "current_address_months_count     -0.945494  1.316782  2.391363  -0.91156   \n",
       "customer_age                      1.356328  1.356328  0.524782 -0.306764   \n",
       "days_since_request               -0.185208 -0.187076 -0.184843 -0.183084   \n",
       "intended_balcon_amount           -0.496142 -0.470048 -0.468566 -0.507183   \n",
       "zip_count_4w                      3.614881 -0.763588 -0.447288 -1.042092   \n",
       "velocity_6h                       0.489372  0.200068  0.240466 -0.677334   \n",
       "velocity_24h                      0.211322   0.09721 -1.090176 -0.194776   \n",
       "velocity_4w                       1.767734  -0.15614  0.262354 -0.508927   \n",
       "bank_branch_count_8w             -0.385884 -0.388059 -0.398938 -0.398938   \n",
       "date_of_birth_distinct_emails_4w   2.87983 -0.497348 -1.689293 -0.696005   \n",
       "credit_risk_score                  0.91861  1.535701  2.009283 -0.258168   \n",
       "email_is_free                     0.941912  0.941912  0.941912  -1.06167   \n",
       "phone_home_valid                 -0.845868  1.182218  1.182218 -0.845868   \n",
       "phone_mobile_valid                0.352143  0.352143 -2.839755  0.352143   \n",
       "bank_months_count                 1.663854 -0.729504 -0.977093 -0.977093   \n",
       "has_other_cards                  -0.535706 -0.535706 -0.535706  1.866694   \n",
       "proposed_credit_limit              2.01852 -0.032511   2.01852  -0.64782   \n",
       "foreign_request                  -0.160921 -0.160921 -0.160921 -0.160921   \n",
       "session_length_in_minutes         0.880434  0.061046  0.378774  -0.27738   \n",
       "keep_alive_session                0.856307  0.856307  0.856307  0.856307   \n",
       "device_distinct_emails_8w        -0.101305 -0.101305 -0.101305 -0.101305   \n",
       "device_fraud_count                     0.0       0.0       0.0       0.0   \n",
       "month                            -1.488092 -0.130622 -0.130622 -0.583112   \n",
       "payment_type_AA                      False     False     False     False   \n",
       "payment_type_AB                       True      True     False     False   \n",
       "payment_type_AC                      False     False      True      True   \n",
       "payment_type_AD                      False     False     False     False   \n",
       "payment_type_AE                      False     False     False     False   \n",
       "employment_status_CA                  True      True     False      True   \n",
       "employment_status_CB                 False     False     False     False   \n",
       "employment_status_CC                 False     False      True     False   \n",
       "employment_status_CD                 False     False     False     False   \n",
       "employment_status_CE                 False     False     False     False   \n",
       "employment_status_CF                 False     False     False     False   \n",
       "employment_status_CG                 False     False     False     False   \n",
       "housing_status_BA                    False      True     False     False   \n",
       "housing_status_BB                    False     False      True     False   \n",
       "housing_status_BC                    False     False     False      True   \n",
       "housing_status_BD                    False     False     False     False   \n",
       "housing_status_BE                     True     False     False     False   \n",
       "housing_status_BF                    False     False     False     False   \n",
       "housing_status_BG                    False     False     False     False   \n",
       "source_INTERNET                       True      True      True      True   \n",
       "source_TELEAPP                       False     False     False     False   \n",
       "device_os_linux                      False     False     False     False   \n",
       "device_os_macintosh                   True     False     False     False   \n",
       "device_os_other                      False     False     False     False   \n",
       "device_os_windows                    False      True      True      True   \n",
       "device_os_x11                        False     False     False     False   \n",
       "\n",
       "                                         4  \n",
       "income                           -0.215937  \n",
       "name_email_similarity            -0.271346  \n",
       "prev_address_months_count        -0.402272  \n",
       "current_address_months_count     -0.606153  \n",
       "customer_age                     -0.306764  \n",
       "days_since_request                -0.18243  \n",
       "intended_balcon_amount           -0.497892  \n",
       "zip_count_4w                      0.178349  \n",
       "velocity_6h                      -0.433352  \n",
       "velocity_24h                     -0.929589  \n",
       "velocity_4w                      -0.054116  \n",
       "bank_branch_count_8w             -0.398938  \n",
       "date_of_birth_distinct_emails_4w  1.886542  \n",
       "credit_risk_score                -0.631293  \n",
       "email_is_free                     0.941912  \n",
       "phone_home_valid                 -0.845868  \n",
       "phone_mobile_valid                0.352143  \n",
       "bank_months_count                -0.977093  \n",
       "has_other_cards                   1.866694  \n",
       "proposed_credit_limit             -0.64782  \n",
       "foreign_request                  -0.160921  \n",
       "session_length_in_minutes        -0.329375  \n",
       "keep_alive_session                0.856307  \n",
       "device_distinct_emails_8w        -0.101305  \n",
       "device_fraud_count                     0.0  \n",
       "month                             0.321868  \n",
       "payment_type_AA                      False  \n",
       "payment_type_AB                      False  \n",
       "payment_type_AC                       True  \n",
       "payment_type_AD                      False  \n",
       "payment_type_AE                      False  \n",
       "employment_status_CA                 False  \n",
       "employment_status_CB                 False  \n",
       "employment_status_CC                 False  \n",
       "employment_status_CD                  True  \n",
       "employment_status_CE                 False  \n",
       "employment_status_CF                 False  \n",
       "employment_status_CG                 False  \n",
       "housing_status_BA                    False  \n",
       "housing_status_BB                    False  \n",
       "housing_status_BC                     True  \n",
       "housing_status_BD                    False  \n",
       "housing_status_BE                    False  \n",
       "housing_status_BF                    False  \n",
       "housing_status_BG                    False  \n",
       "source_INTERNET                       True  \n",
       "source_TELEAPP                       False  \n",
       "device_os_linux                       True  \n",
       "device_os_macintosh                  False  \n",
       "device_os_other                      False  \n",
       "device_os_windows                    False  \n",
       "device_os_x11                        False  "
      ]
     },
     "execution_count": 14,
     "metadata": {},
     "output_type": "execute_result"
    }
   ],
   "source": [
    "X_train.head().T"
   ]
  },
  {
   "cell_type": "markdown",
   "metadata": {},
   "source": [
    "# ***3. Training of Models and Hyperparameter Tuning***"
   ]
  },
  {
   "cell_type": "markdown",
   "metadata": {},
   "source": [
    "3.1. Hyperparameter Tuning using GridSearchCV  \n",
    "- sklearn.model_selection\n",
    "- L1 regularization\n",
    "- Receive Operating Characteristic Curve (ROC AUC) - a good metric for binary classification problems"
   ]
  },
  {
   "cell_type": "code",
   "execution_count": 15,
   "metadata": {},
   "outputs": [
    {
     "name": "stdout",
     "output_type": "stream",
     "text": [
      "The best value of c is: 0.1\n"
     ]
    }
   ],
   "source": [
    "#Define the range of hyperparameters\n",
    "grid_parameter = {'C': [0.001, 0.01, 0.1]} \n",
    " \n",
    "logistic = LogisticRegression(penalty='l1', solver='saga', random_state=42, max_iter=5000)\n",
    " \n",
    "grid_search_cv = GridSearchCV(logistic, grid_parameter, cv=5, scoring='roc_auc')  \n",
    "grid_search_cv.fit(X_train, y_train)  \n",
    "\n",
    "#Get the best value of c\n",
    "best_param_c = grid_search_cv.best_params_['C']\n",
    "print(f\"The best value of c is: {best_param_c}\") "
   ]
  },
  {
   "cell_type": "markdown",
   "metadata": {},
   "source": [
    "3.2. Feature Selection Using SelectFromModel\n",
    "- SelectFromModel from sklearn.feature_selection\n"
   ]
  },
  {
   "cell_type": "code",
   "execution_count": 16,
   "metadata": {},
   "outputs": [
    {
     "name": "stderr",
     "output_type": "stream",
     "text": [
      "/Library/Frameworks/Python.framework/Versions/3.12/lib/python3.12/site-packages/sklearn/base.py:486: UserWarning:\n",
      "\n",
      "X has feature names, but SelectFromModel was fitted without feature names\n",
      "\n"
     ]
    },
    {
     "name": "stdout",
     "output_type": "stream",
     "text": [
      "Number of features selected: 24\n",
      "Selected Features:\n",
      "Index(['payment_type_AA', 'payment_type_AB', 'payment_type_AC',\n",
      "       'payment_type_AD', 'employment_status_CA', 'employment_status_CB',\n",
      "       'employment_status_CC', 'employment_status_CD', 'employment_status_CE',\n",
      "       'employment_status_CF', 'employment_status_CG', 'housing_status_BA',\n",
      "       'housing_status_BB', 'housing_status_BC', 'housing_status_BD',\n",
      "       'housing_status_BE', 'housing_status_BF', 'source_INTERNET',\n",
      "       'source_TELEAPP', 'device_os_linux', 'device_os_macintosh',\n",
      "       'device_os_other', 'device_os_windows', 'device_os_x11'],\n",
      "      dtype='object')\n"
     ]
    },
    {
     "name": "stderr",
     "output_type": "stream",
     "text": [
      "/Library/Frameworks/Python.framework/Versions/3.12/lib/python3.12/site-packages/sklearn/base.py:486: UserWarning:\n",
      "\n",
      "X has feature names, but SelectFromModel was fitted without feature names\n",
      "\n"
     ]
    }
   ],
   "source": [
    "#Training using L1-regularized\n",
    "l1_lasso = LogisticRegression(penalty='l1', solver='saga', C=best_param_c, random_state=42, max_iter=5000)\n",
    "l1_lasso.fit(X_train, y_train) \n",
    "\n",
    "#Select Features\n",
    "select = SelectFromModel(l1_lasso, threshold='mean', prefit=True)\n",
    "X_train_selected = select.transform(X_train)\n",
    "X_test_selected = select.transform(X_test)\n",
    " \n",
    "print(f\"Number of features selected: {X_train_selected.shape[1]}\")\n",
    " \n",
    "feature_names = X.columns \n",
    "selected_features_mask = select.get_support() \n",
    "selected_features = feature_names[selected_features_mask]\n",
    "print(f\"Selected Features:\\n{selected_features}\")"
   ]
  },
  {
   "cell_type": "markdown",
   "metadata": {},
   "source": [
    "3.3. Training using L1-regularized with Selected Featues"
   ]
  },
  {
   "cell_type": "code",
   "execution_count": 17,
   "metadata": {},
   "outputs": [
    {
     "data": {
      "text/html": [
       "<style>#sk-container-id-1 {\n",
       "  /* Definition of color scheme common for light and dark mode */\n",
       "  --sklearn-color-text: black;\n",
       "  --sklearn-color-line: gray;\n",
       "  /* Definition of color scheme for unfitted estimators */\n",
       "  --sklearn-color-unfitted-level-0: #fff5e6;\n",
       "  --sklearn-color-unfitted-level-1: #f6e4d2;\n",
       "  --sklearn-color-unfitted-level-2: #ffe0b3;\n",
       "  --sklearn-color-unfitted-level-3: chocolate;\n",
       "  /* Definition of color scheme for fitted estimators */\n",
       "  --sklearn-color-fitted-level-0: #f0f8ff;\n",
       "  --sklearn-color-fitted-level-1: #d4ebff;\n",
       "  --sklearn-color-fitted-level-2: #b3dbfd;\n",
       "  --sklearn-color-fitted-level-3: cornflowerblue;\n",
       "\n",
       "  /* Specific color for light theme */\n",
       "  --sklearn-color-text-on-default-background: var(--sg-text-color, var(--theme-code-foreground, var(--jp-content-font-color1, black)));\n",
       "  --sklearn-color-background: var(--sg-background-color, var(--theme-background, var(--jp-layout-color0, white)));\n",
       "  --sklearn-color-border-box: var(--sg-text-color, var(--theme-code-foreground, var(--jp-content-font-color1, black)));\n",
       "  --sklearn-color-icon: #696969;\n",
       "\n",
       "  @media (prefers-color-scheme: dark) {\n",
       "    /* Redefinition of color scheme for dark theme */\n",
       "    --sklearn-color-text-on-default-background: var(--sg-text-color, var(--theme-code-foreground, var(--jp-content-font-color1, white)));\n",
       "    --sklearn-color-background: var(--sg-background-color, var(--theme-background, var(--jp-layout-color0, #111)));\n",
       "    --sklearn-color-border-box: var(--sg-text-color, var(--theme-code-foreground, var(--jp-content-font-color1, white)));\n",
       "    --sklearn-color-icon: #878787;\n",
       "  }\n",
       "}\n",
       "\n",
       "#sk-container-id-1 {\n",
       "  color: var(--sklearn-color-text);\n",
       "}\n",
       "\n",
       "#sk-container-id-1 pre {\n",
       "  padding: 0;\n",
       "}\n",
       "\n",
       "#sk-container-id-1 input.sk-hidden--visually {\n",
       "  border: 0;\n",
       "  clip: rect(1px 1px 1px 1px);\n",
       "  clip: rect(1px, 1px, 1px, 1px);\n",
       "  height: 1px;\n",
       "  margin: -1px;\n",
       "  overflow: hidden;\n",
       "  padding: 0;\n",
       "  position: absolute;\n",
       "  width: 1px;\n",
       "}\n",
       "\n",
       "#sk-container-id-1 div.sk-dashed-wrapped {\n",
       "  border: 1px dashed var(--sklearn-color-line);\n",
       "  margin: 0 0.4em 0.5em 0.4em;\n",
       "  box-sizing: border-box;\n",
       "  padding-bottom: 0.4em;\n",
       "  background-color: var(--sklearn-color-background);\n",
       "}\n",
       "\n",
       "#sk-container-id-1 div.sk-container {\n",
       "  /* jupyter's `normalize.less` sets `[hidden] { display: none; }`\n",
       "     but bootstrap.min.css set `[hidden] { display: none !important; }`\n",
       "     so we also need the `!important` here to be able to override the\n",
       "     default hidden behavior on the sphinx rendered scikit-learn.org.\n",
       "     See: https://github.com/scikit-learn/scikit-learn/issues/21755 */\n",
       "  display: inline-block !important;\n",
       "  position: relative;\n",
       "}\n",
       "\n",
       "#sk-container-id-1 div.sk-text-repr-fallback {\n",
       "  display: none;\n",
       "}\n",
       "\n",
       "div.sk-parallel-item,\n",
       "div.sk-serial,\n",
       "div.sk-item {\n",
       "  /* draw centered vertical line to link estimators */\n",
       "  background-image: linear-gradient(var(--sklearn-color-text-on-default-background), var(--sklearn-color-text-on-default-background));\n",
       "  background-size: 2px 100%;\n",
       "  background-repeat: no-repeat;\n",
       "  background-position: center center;\n",
       "}\n",
       "\n",
       "/* Parallel-specific style estimator block */\n",
       "\n",
       "#sk-container-id-1 div.sk-parallel-item::after {\n",
       "  content: \"\";\n",
       "  width: 100%;\n",
       "  border-bottom: 2px solid var(--sklearn-color-text-on-default-background);\n",
       "  flex-grow: 1;\n",
       "}\n",
       "\n",
       "#sk-container-id-1 div.sk-parallel {\n",
       "  display: flex;\n",
       "  align-items: stretch;\n",
       "  justify-content: center;\n",
       "  background-color: var(--sklearn-color-background);\n",
       "  position: relative;\n",
       "}\n",
       "\n",
       "#sk-container-id-1 div.sk-parallel-item {\n",
       "  display: flex;\n",
       "  flex-direction: column;\n",
       "}\n",
       "\n",
       "#sk-container-id-1 div.sk-parallel-item:first-child::after {\n",
       "  align-self: flex-end;\n",
       "  width: 50%;\n",
       "}\n",
       "\n",
       "#sk-container-id-1 div.sk-parallel-item:last-child::after {\n",
       "  align-self: flex-start;\n",
       "  width: 50%;\n",
       "}\n",
       "\n",
       "#sk-container-id-1 div.sk-parallel-item:only-child::after {\n",
       "  width: 0;\n",
       "}\n",
       "\n",
       "/* Serial-specific style estimator block */\n",
       "\n",
       "#sk-container-id-1 div.sk-serial {\n",
       "  display: flex;\n",
       "  flex-direction: column;\n",
       "  align-items: center;\n",
       "  background-color: var(--sklearn-color-background);\n",
       "  padding-right: 1em;\n",
       "  padding-left: 1em;\n",
       "}\n",
       "\n",
       "\n",
       "/* Toggleable style: style used for estimator/Pipeline/ColumnTransformer box that is\n",
       "clickable and can be expanded/collapsed.\n",
       "- Pipeline and ColumnTransformer use this feature and define the default style\n",
       "- Estimators will overwrite some part of the style using the `sk-estimator` class\n",
       "*/\n",
       "\n",
       "/* Pipeline and ColumnTransformer style (default) */\n",
       "\n",
       "#sk-container-id-1 div.sk-toggleable {\n",
       "  /* Default theme specific background. It is overwritten whether we have a\n",
       "  specific estimator or a Pipeline/ColumnTransformer */\n",
       "  background-color: var(--sklearn-color-background);\n",
       "}\n",
       "\n",
       "/* Toggleable label */\n",
       "#sk-container-id-1 label.sk-toggleable__label {\n",
       "  cursor: pointer;\n",
       "  display: block;\n",
       "  width: 100%;\n",
       "  margin-bottom: 0;\n",
       "  padding: 0.5em;\n",
       "  box-sizing: border-box;\n",
       "  text-align: center;\n",
       "}\n",
       "\n",
       "#sk-container-id-1 label.sk-toggleable__label-arrow:before {\n",
       "  /* Arrow on the left of the label */\n",
       "  content: \"▸\";\n",
       "  float: left;\n",
       "  margin-right: 0.25em;\n",
       "  color: var(--sklearn-color-icon);\n",
       "}\n",
       "\n",
       "#sk-container-id-1 label.sk-toggleable__label-arrow:hover:before {\n",
       "  color: var(--sklearn-color-text);\n",
       "}\n",
       "\n",
       "/* Toggleable content - dropdown */\n",
       "\n",
       "#sk-container-id-1 div.sk-toggleable__content {\n",
       "  max-height: 0;\n",
       "  max-width: 0;\n",
       "  overflow: hidden;\n",
       "  text-align: left;\n",
       "  /* unfitted */\n",
       "  background-color: var(--sklearn-color-unfitted-level-0);\n",
       "}\n",
       "\n",
       "#sk-container-id-1 div.sk-toggleable__content.fitted {\n",
       "  /* fitted */\n",
       "  background-color: var(--sklearn-color-fitted-level-0);\n",
       "}\n",
       "\n",
       "#sk-container-id-1 div.sk-toggleable__content pre {\n",
       "  margin: 0.2em;\n",
       "  border-radius: 0.25em;\n",
       "  color: var(--sklearn-color-text);\n",
       "  /* unfitted */\n",
       "  background-color: var(--sklearn-color-unfitted-level-0);\n",
       "}\n",
       "\n",
       "#sk-container-id-1 div.sk-toggleable__content.fitted pre {\n",
       "  /* unfitted */\n",
       "  background-color: var(--sklearn-color-fitted-level-0);\n",
       "}\n",
       "\n",
       "#sk-container-id-1 input.sk-toggleable__control:checked~div.sk-toggleable__content {\n",
       "  /* Expand drop-down */\n",
       "  max-height: 200px;\n",
       "  max-width: 100%;\n",
       "  overflow: auto;\n",
       "}\n",
       "\n",
       "#sk-container-id-1 input.sk-toggleable__control:checked~label.sk-toggleable__label-arrow:before {\n",
       "  content: \"▾\";\n",
       "}\n",
       "\n",
       "/* Pipeline/ColumnTransformer-specific style */\n",
       "\n",
       "#sk-container-id-1 div.sk-label input.sk-toggleable__control:checked~label.sk-toggleable__label {\n",
       "  color: var(--sklearn-color-text);\n",
       "  background-color: var(--sklearn-color-unfitted-level-2);\n",
       "}\n",
       "\n",
       "#sk-container-id-1 div.sk-label.fitted input.sk-toggleable__control:checked~label.sk-toggleable__label {\n",
       "  background-color: var(--sklearn-color-fitted-level-2);\n",
       "}\n",
       "\n",
       "/* Estimator-specific style */\n",
       "\n",
       "/* Colorize estimator box */\n",
       "#sk-container-id-1 div.sk-estimator input.sk-toggleable__control:checked~label.sk-toggleable__label {\n",
       "  /* unfitted */\n",
       "  background-color: var(--sklearn-color-unfitted-level-2);\n",
       "}\n",
       "\n",
       "#sk-container-id-1 div.sk-estimator.fitted input.sk-toggleable__control:checked~label.sk-toggleable__label {\n",
       "  /* fitted */\n",
       "  background-color: var(--sklearn-color-fitted-level-2);\n",
       "}\n",
       "\n",
       "#sk-container-id-1 div.sk-label label.sk-toggleable__label,\n",
       "#sk-container-id-1 div.sk-label label {\n",
       "  /* The background is the default theme color */\n",
       "  color: var(--sklearn-color-text-on-default-background);\n",
       "}\n",
       "\n",
       "/* On hover, darken the color of the background */\n",
       "#sk-container-id-1 div.sk-label:hover label.sk-toggleable__label {\n",
       "  color: var(--sklearn-color-text);\n",
       "  background-color: var(--sklearn-color-unfitted-level-2);\n",
       "}\n",
       "\n",
       "/* Label box, darken color on hover, fitted */\n",
       "#sk-container-id-1 div.sk-label.fitted:hover label.sk-toggleable__label.fitted {\n",
       "  color: var(--sklearn-color-text);\n",
       "  background-color: var(--sklearn-color-fitted-level-2);\n",
       "}\n",
       "\n",
       "/* Estimator label */\n",
       "\n",
       "#sk-container-id-1 div.sk-label label {\n",
       "  font-family: monospace;\n",
       "  font-weight: bold;\n",
       "  display: inline-block;\n",
       "  line-height: 1.2em;\n",
       "}\n",
       "\n",
       "#sk-container-id-1 div.sk-label-container {\n",
       "  text-align: center;\n",
       "}\n",
       "\n",
       "/* Estimator-specific */\n",
       "#sk-container-id-1 div.sk-estimator {\n",
       "  font-family: monospace;\n",
       "  border: 1px dotted var(--sklearn-color-border-box);\n",
       "  border-radius: 0.25em;\n",
       "  box-sizing: border-box;\n",
       "  margin-bottom: 0.5em;\n",
       "  /* unfitted */\n",
       "  background-color: var(--sklearn-color-unfitted-level-0);\n",
       "}\n",
       "\n",
       "#sk-container-id-1 div.sk-estimator.fitted {\n",
       "  /* fitted */\n",
       "  background-color: var(--sklearn-color-fitted-level-0);\n",
       "}\n",
       "\n",
       "/* on hover */\n",
       "#sk-container-id-1 div.sk-estimator:hover {\n",
       "  /* unfitted */\n",
       "  background-color: var(--sklearn-color-unfitted-level-2);\n",
       "}\n",
       "\n",
       "#sk-container-id-1 div.sk-estimator.fitted:hover {\n",
       "  /* fitted */\n",
       "  background-color: var(--sklearn-color-fitted-level-2);\n",
       "}\n",
       "\n",
       "/* Specification for estimator info (e.g. \"i\" and \"?\") */\n",
       "\n",
       "/* Common style for \"i\" and \"?\" */\n",
       "\n",
       ".sk-estimator-doc-link,\n",
       "a:link.sk-estimator-doc-link,\n",
       "a:visited.sk-estimator-doc-link {\n",
       "  float: right;\n",
       "  font-size: smaller;\n",
       "  line-height: 1em;\n",
       "  font-family: monospace;\n",
       "  background-color: var(--sklearn-color-background);\n",
       "  border-radius: 1em;\n",
       "  height: 1em;\n",
       "  width: 1em;\n",
       "  text-decoration: none !important;\n",
       "  margin-left: 1ex;\n",
       "  /* unfitted */\n",
       "  border: var(--sklearn-color-unfitted-level-1) 1pt solid;\n",
       "  color: var(--sklearn-color-unfitted-level-1);\n",
       "}\n",
       "\n",
       ".sk-estimator-doc-link.fitted,\n",
       "a:link.sk-estimator-doc-link.fitted,\n",
       "a:visited.sk-estimator-doc-link.fitted {\n",
       "  /* fitted */\n",
       "  border: var(--sklearn-color-fitted-level-1) 1pt solid;\n",
       "  color: var(--sklearn-color-fitted-level-1);\n",
       "}\n",
       "\n",
       "/* On hover */\n",
       "div.sk-estimator:hover .sk-estimator-doc-link:hover,\n",
       ".sk-estimator-doc-link:hover,\n",
       "div.sk-label-container:hover .sk-estimator-doc-link:hover,\n",
       ".sk-estimator-doc-link:hover {\n",
       "  /* unfitted */\n",
       "  background-color: var(--sklearn-color-unfitted-level-3);\n",
       "  color: var(--sklearn-color-background);\n",
       "  text-decoration: none;\n",
       "}\n",
       "\n",
       "div.sk-estimator.fitted:hover .sk-estimator-doc-link.fitted:hover,\n",
       ".sk-estimator-doc-link.fitted:hover,\n",
       "div.sk-label-container:hover .sk-estimator-doc-link.fitted:hover,\n",
       ".sk-estimator-doc-link.fitted:hover {\n",
       "  /* fitted */\n",
       "  background-color: var(--sklearn-color-fitted-level-3);\n",
       "  color: var(--sklearn-color-background);\n",
       "  text-decoration: none;\n",
       "}\n",
       "\n",
       "/* Span, style for the box shown on hovering the info icon */\n",
       ".sk-estimator-doc-link span {\n",
       "  display: none;\n",
       "  z-index: 9999;\n",
       "  position: relative;\n",
       "  font-weight: normal;\n",
       "  right: .2ex;\n",
       "  padding: .5ex;\n",
       "  margin: .5ex;\n",
       "  width: min-content;\n",
       "  min-width: 20ex;\n",
       "  max-width: 50ex;\n",
       "  color: var(--sklearn-color-text);\n",
       "  box-shadow: 2pt 2pt 4pt #999;\n",
       "  /* unfitted */\n",
       "  background: var(--sklearn-color-unfitted-level-0);\n",
       "  border: .5pt solid var(--sklearn-color-unfitted-level-3);\n",
       "}\n",
       "\n",
       ".sk-estimator-doc-link.fitted span {\n",
       "  /* fitted */\n",
       "  background: var(--sklearn-color-fitted-level-0);\n",
       "  border: var(--sklearn-color-fitted-level-3);\n",
       "}\n",
       "\n",
       ".sk-estimator-doc-link:hover span {\n",
       "  display: block;\n",
       "}\n",
       "\n",
       "/* \"?\"-specific style due to the `<a>` HTML tag */\n",
       "\n",
       "#sk-container-id-1 a.estimator_doc_link {\n",
       "  float: right;\n",
       "  font-size: 1rem;\n",
       "  line-height: 1em;\n",
       "  font-family: monospace;\n",
       "  background-color: var(--sklearn-color-background);\n",
       "  border-radius: 1rem;\n",
       "  height: 1rem;\n",
       "  width: 1rem;\n",
       "  text-decoration: none;\n",
       "  /* unfitted */\n",
       "  color: var(--sklearn-color-unfitted-level-1);\n",
       "  border: var(--sklearn-color-unfitted-level-1) 1pt solid;\n",
       "}\n",
       "\n",
       "#sk-container-id-1 a.estimator_doc_link.fitted {\n",
       "  /* fitted */\n",
       "  border: var(--sklearn-color-fitted-level-1) 1pt solid;\n",
       "  color: var(--sklearn-color-fitted-level-1);\n",
       "}\n",
       "\n",
       "/* On hover */\n",
       "#sk-container-id-1 a.estimator_doc_link:hover {\n",
       "  /* unfitted */\n",
       "  background-color: var(--sklearn-color-unfitted-level-3);\n",
       "  color: var(--sklearn-color-background);\n",
       "  text-decoration: none;\n",
       "}\n",
       "\n",
       "#sk-container-id-1 a.estimator_doc_link.fitted:hover {\n",
       "  /* fitted */\n",
       "  background-color: var(--sklearn-color-fitted-level-3);\n",
       "}\n",
       "</style><div id=\"sk-container-id-1\" class=\"sk-top-container\"><div class=\"sk-text-repr-fallback\"><pre>LogisticRegression(C=0.1, max_iter=5000, penalty=&#x27;l1&#x27;, random_state=42,\n",
       "                   solver=&#x27;saga&#x27;)</pre><b>In a Jupyter environment, please rerun this cell to show the HTML representation or trust the notebook. <br />On GitHub, the HTML representation is unable to render, please try loading this page with nbviewer.org.</b></div><div class=\"sk-container\" hidden><div class=\"sk-item\"><div class=\"sk-estimator fitted sk-toggleable\"><input class=\"sk-toggleable__control sk-hidden--visually\" id=\"sk-estimator-id-1\" type=\"checkbox\" checked><label for=\"sk-estimator-id-1\" class=\"sk-toggleable__label fitted sk-toggleable__label-arrow fitted\">&nbsp;&nbsp;LogisticRegression<a class=\"sk-estimator-doc-link fitted\" rel=\"noreferrer\" target=\"_blank\" href=\"https://scikit-learn.org/1.5/modules/generated/sklearn.linear_model.LogisticRegression.html\">?<span>Documentation for LogisticRegression</span></a><span class=\"sk-estimator-doc-link fitted\">i<span>Fitted</span></span></label><div class=\"sk-toggleable__content fitted\"><pre>LogisticRegression(C=0.1, max_iter=5000, penalty=&#x27;l1&#x27;, random_state=42,\n",
       "                   solver=&#x27;saga&#x27;)</pre></div> </div></div></div></div>"
      ],
      "text/plain": [
       "LogisticRegression(C=0.1, max_iter=5000, penalty='l1', random_state=42,\n",
       "                   solver='saga')"
      ]
     },
     "execution_count": 17,
     "metadata": {},
     "output_type": "execute_result"
    }
   ],
   "source": [
    "l1_lasso_selected = LogisticRegression(penalty='l1', solver='saga', C=best_param_c, random_state=42, max_iter=5000)\n",
    "l1_lasso_selected.fit(X_train_selected, y_train)\n"
   ]
  },
  {
   "cell_type": "code",
   "execution_count": 18,
   "metadata": {},
   "outputs": [],
   "source": [
    "y_train_pred_selected = l1_lasso_selected.predict(X_train_selected)\n"
   ]
  },
  {
   "cell_type": "markdown",
   "metadata": {},
   "source": [
    "3.3. Model Prediction"
   ]
  },
  {
   "cell_type": "code",
   "execution_count": 19,
   "metadata": {},
   "outputs": [],
   "source": [
    "y_pred_selected = l1_lasso_selected.predict(X_test_selected) "
   ]
  },
  {
   "cell_type": "markdown",
   "metadata": {},
   "source": [
    "# ***4. Evaluation of Results***"
   ]
  },
  {
   "cell_type": "code",
   "execution_count": 25,
   "metadata": {},
   "outputs": [
    {
     "name": "stdout",
     "output_type": "stream",
     "text": [
      "Accuracy: 0.9369378630665186\n",
      "Precision: 0.9523615940650894\n",
      "Recall: 0.9198898519168901\n",
      "F1 Score: 0.9358441331328534\n"
     ]
    }
   ],
   "source": [
    "print(f\"Accuracy: {accuracy_score(y_train, y_train_pred_selected)}\")\n",
    "print(f\"Precision: {precision_score(y_train, y_train_pred_selected)}\")\n",
    "print(f\"Recall: {recall_score(y_train, y_train_pred_selected)}\")\n",
    "print(f\"F1 Score: {f1_score(y_train, y_train_pred_selected)}\")"
   ]
  },
  {
   "cell_type": "code",
   "execution_count": 21,
   "metadata": {},
   "outputs": [
    {
     "name": "stdout",
     "output_type": "stream",
     "text": [
      "Accuracy: 0.947505\n",
      "Precision: 0.0743250179653013\n",
      "Recall: 0.32819582955575705\n",
      "F1 Score: 0.12120197539131163\n"
     ]
    }
   ],
   "source": [
    "print(f\"Accuracy: {accuracy_score(y_test, y_pred_selected)}\")\n",
    "print(f\"Precision: {precision_score(y_test, y_pred_selected)}\")\n",
    "print(f\"Recall: {recall_score(y_test, y_pred_selected)}\")\n",
    "print(f\"F1 Score: {f1_score(y_test, y_pred_selected)}\")"
   ]
  },
  {
   "cell_type": "markdown",
   "metadata": {},
   "source": [
    "4.1. Confusion matrix"
   ]
  },
  {
   "cell_type": "code",
   "execution_count": 22,
   "metadata": {},
   "outputs": [
    {
     "name": "stdout",
     "output_type": "stream",
     "text": [
      "Confusion Matrix:\n",
      " [[566079  27304]\n",
      " [ 47536 545847]]\n"
     ]
    }
   ],
   "source": [
    "conf_matrix = confusion_matrix(y_train, y_train_pred_selected)\n",
    "print(\"Confusion Matrix:\\n\", conf_matrix)"
   ]
  },
  {
   "cell_type": "code",
   "execution_count": 23,
   "metadata": {},
   "outputs": [
    {
     "name": "stdout",
     "output_type": "stream",
     "text": [
      "Confusion Matrix:\n",
      " [[377554  18034]\n",
      " [  2964   1448]]\n"
     ]
    }
   ],
   "source": [
    "conf_matrix = confusion_matrix(y_test, y_pred_selected)\n",
    "print(\"Confusion Matrix:\\n\", conf_matrix)"
   ]
  },
  {
   "cell_type": "code",
   "execution_count": 24,
   "metadata": {},
   "outputs": [
    {
     "data": {
      "image/png": "[encoded data removed]",
      "text/plain": [
       "<Figure size 800x600 with 2 Axes>"
      ]
     },
     "metadata": {},
     "output_type": "display_data"
    }
   ],
   "source": [
    "# Plotting the confusion matrix\n",
    "fig, ax = plt.subplots(figsize=(8, 6))\n",
    "sns.heatmap(conf_matrix, annot=True, fmt='d', cmap='Blues', ax=ax)\n",
    "ax.set_xlabel('Predicted Label')\n",
    "ax.set_ylabel('True Label')\n",
    "ax.set_title('Confusion Matrix')\n",
    "plt.show()\n"
   ]
  }
 ],
 "metadata": {
  "kernelspec": {
   "display_name": "Python 3",
   "language": "python",
   "name": "python3"
  },
  "language_info": {
   "codemirror_mode": {
    "name": "ipython",
    "version": 3
   },
   "file_extension": ".py",
   "mimetype": "text/x-python",
   "name": "python",
   "nbconvert_exporter": "python",
   "pygments_lexer": "ipython3",
   "version": "3.12.3"
  }
 },
 "nbformat": 4,
 "nbformat_minor": 2
}
